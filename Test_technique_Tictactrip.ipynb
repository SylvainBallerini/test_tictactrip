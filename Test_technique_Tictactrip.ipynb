{
  "nbformat": 4,
  "nbformat_minor": 0,
  "metadata": {
    "colab": {
      "name": "Test technique Tictactrip.ipynb",
      "provenance": [],
      "collapsed_sections": [],
      "authorship_tag": "ABX9TyOE7HKHraSTI4as08mdKXyF",
      "include_colab_link": true
    },
    "kernelspec": {
      "name": "python3",
      "display_name": "Python 3"
    },
    "language_info": {
      "name": "python"
    }
  },
  "cells": [
    {
      "cell_type": "markdown",
      "metadata": {
        "id": "view-in-github",
        "colab_type": "text"
      },
      "source": [
        "<a href=\"https://colab.research.google.com/github/SylvainBallerini/test_tictactrip/blob/main/Test_technique_Tictactrip.ipynb\" target=\"_parent\"><img src=\"https://colab.research.google.com/assets/colab-badge.svg\" alt=\"Open In Colab\"/></a>"
      ]
    },
    {
      "cell_type": "code",
      "metadata": {
        "colab": {
          "base_uri": "https://localhost:8080/"
        },
        "id": "zGv-EGbJCe-V",
        "outputId": "ef2279e2-665b-4dd4-8ea5-245ced65ff88"
      },
      "source": [
        "pip install plotly"
      ],
      "execution_count": null,
      "outputs": [
        {
          "output_type": "stream",
          "name": "stdout",
          "text": [
            "Requirement already satisfied: plotly in /usr/local/lib/python3.7/dist-packages (4.4.1)\n",
            "Requirement already satisfied: retrying>=1.3.3 in /usr/local/lib/python3.7/dist-packages (from plotly) (1.3.3)\n",
            "Requirement already satisfied: six in /usr/local/lib/python3.7/dist-packages (from plotly) (1.15.0)\n"
          ]
        }
      ]
    },
    {
      "cell_type": "code",
      "metadata": {
        "id": "hyl2zMsXCQi4"
      },
      "source": [
        "import numpy as np\n",
        "import pandas as pd\n",
        "import plotly.express as px\n",
        "import seaborn as sns\n",
        "import matplotlib.pyplot as plt\n",
        "from matplotlib.pyplot import figure\n"
      ],
      "execution_count": null,
      "outputs": []
    },
    {
      "cell_type": "code",
      "metadata": {
        "id": "TSB1V4KaFi_L"
      },
      "source": [
        "# Création des dataframes\n",
        "data_cities = pd.read_csv(\"cities.csv\")\n",
        "data_providers = pd.read_csv('providers.csv')\n",
        "data_stations = pd.read_csv(\"stations.csv\")\n",
        "data_ticket = pd.read_csv('ticket_data.csv')"
      ],
      "execution_count": null,
      "outputs": []
    },
    {
      "cell_type": "code",
      "metadata": {
        "colab": {
          "base_uri": "https://localhost:8080/",
          "height": 203
        },
        "id": "F-bbaRF8ICcG",
        "outputId": "48e3aa68-e02e-4842-f07a-9e6ae7d82275"
      },
      "source": [
        "data_cities.head()"
      ],
      "execution_count": null,
      "outputs": [
        {
          "output_type": "execute_result",
          "data": {
            "text/html": [
              "<div>\n",
              "<style scoped>\n",
              "    .dataframe tbody tr th:only-of-type {\n",
              "        vertical-align: middle;\n",
              "    }\n",
              "\n",
              "    .dataframe tbody tr th {\n",
              "        vertical-align: top;\n",
              "    }\n",
              "\n",
              "    .dataframe thead th {\n",
              "        text-align: right;\n",
              "    }\n",
              "</style>\n",
              "<table border=\"1\" class=\"dataframe\">\n",
              "  <thead>\n",
              "    <tr style=\"text-align: right;\">\n",
              "      <th></th>\n",
              "      <th>id</th>\n",
              "      <th>local_name</th>\n",
              "      <th>unique_name</th>\n",
              "      <th>latitude</th>\n",
              "      <th>longitude</th>\n",
              "      <th>population</th>\n",
              "    </tr>\n",
              "  </thead>\n",
              "  <tbody>\n",
              "    <tr>\n",
              "      <th>0</th>\n",
              "      <td>5159</td>\n",
              "      <td>Padua, Veneto, Italia</td>\n",
              "      <td>padua</td>\n",
              "      <td>45.406435</td>\n",
              "      <td>11.876761</td>\n",
              "      <td>209678.0</td>\n",
              "    </tr>\n",
              "    <tr>\n",
              "      <th>1</th>\n",
              "      <td>76</td>\n",
              "      <td>Barcelona, Cataluña, España</td>\n",
              "      <td>barcelona</td>\n",
              "      <td>41.385064</td>\n",
              "      <td>2.173404</td>\n",
              "      <td>1611822.0</td>\n",
              "    </tr>\n",
              "    <tr>\n",
              "      <th>2</th>\n",
              "      <td>81</td>\n",
              "      <td>Basel, Basel-Stadt, Schweiz</td>\n",
              "      <td>basel</td>\n",
              "      <td>47.593437</td>\n",
              "      <td>7.619812</td>\n",
              "      <td>NaN</td>\n",
              "    </tr>\n",
              "    <tr>\n",
              "      <th>3</th>\n",
              "      <td>259</td>\n",
              "      <td>Erlangen, Bayern, Deutschland</td>\n",
              "      <td>erlangen</td>\n",
              "      <td>49.589674</td>\n",
              "      <td>11.011961</td>\n",
              "      <td>105412.0</td>\n",
              "    </tr>\n",
              "    <tr>\n",
              "      <th>4</th>\n",
              "      <td>11979</td>\n",
              "      <td>Balș, Olt, România</td>\n",
              "      <td>balș</td>\n",
              "      <td>44.353354</td>\n",
              "      <td>24.095672</td>\n",
              "      <td>NaN</td>\n",
              "    </tr>\n",
              "  </tbody>\n",
              "</table>\n",
              "</div>"
            ],
            "text/plain": [
              "      id                     local_name  ...  longitude  population\n",
              "0   5159          Padua, Veneto, Italia  ...  11.876761    209678.0\n",
              "1     76    Barcelona, Cataluña, España  ...   2.173404   1611822.0\n",
              "2     81    Basel, Basel-Stadt, Schweiz  ...   7.619812         NaN\n",
              "3    259  Erlangen, Bayern, Deutschland  ...  11.011961    105412.0\n",
              "4  11979             Balș, Olt, România  ...  24.095672         NaN\n",
              "\n",
              "[5 rows x 6 columns]"
            ]
          },
          "metadata": {},
          "execution_count": 4
        }
      ]
    },
    {
      "cell_type": "code",
      "metadata": {
        "colab": {
          "base_uri": "https://localhost:8080/",
          "height": 295
        },
        "id": "ZxEyhGrk9odP",
        "outputId": "b926b8cb-0b87-4278-fee3-4d8de1ab1da0"
      },
      "source": [
        "data_cities.describe()"
      ],
      "execution_count": null,
      "outputs": [
        {
          "output_type": "execute_result",
          "data": {
            "text/html": [
              "<div>\n",
              "<style scoped>\n",
              "    .dataframe tbody tr th:only-of-type {\n",
              "        vertical-align: middle;\n",
              "    }\n",
              "\n",
              "    .dataframe tbody tr th {\n",
              "        vertical-align: top;\n",
              "    }\n",
              "\n",
              "    .dataframe thead th {\n",
              "        text-align: right;\n",
              "    }\n",
              "</style>\n",
              "<table border=\"1\" class=\"dataframe\">\n",
              "  <thead>\n",
              "    <tr style=\"text-align: right;\">\n",
              "      <th></th>\n",
              "      <th>id</th>\n",
              "      <th>latitude</th>\n",
              "      <th>longitude</th>\n",
              "      <th>population</th>\n",
              "    </tr>\n",
              "  </thead>\n",
              "  <tbody>\n",
              "    <tr>\n",
              "      <th>count</th>\n",
              "      <td>8040.000000</td>\n",
              "      <td>8040.000000</td>\n",
              "      <td>8040.000000</td>\n",
              "      <td>3.690000e+02</td>\n",
              "    </tr>\n",
              "    <tr>\n",
              "      <th>mean</th>\n",
              "      <td>6328.786816</td>\n",
              "      <td>47.223456</td>\n",
              "      <td>6.299331</td>\n",
              "      <td>3.360184e+05</td>\n",
              "    </tr>\n",
              "    <tr>\n",
              "      <th>std</th>\n",
              "      <td>3504.698537</td>\n",
              "      <td>3.700934</td>\n",
              "      <td>7.747070</td>\n",
              "      <td>5.840409e+05</td>\n",
              "    </tr>\n",
              "    <tr>\n",
              "      <th>min</th>\n",
              "      <td>1.000000</td>\n",
              "      <td>1.370676</td>\n",
              "      <td>-101.397388</td>\n",
              "      <td>1.000460e+05</td>\n",
              "    </tr>\n",
              "    <tr>\n",
              "      <th>25%</th>\n",
              "      <td>2501.500000</td>\n",
              "      <td>44.662402</td>\n",
              "      <td>1.214282</td>\n",
              "      <td>1.253750e+05</td>\n",
              "    </tr>\n",
              "    <tr>\n",
              "      <th>50%</th>\n",
              "      <td>7003.500000</td>\n",
              "      <td>47.304750</td>\n",
              "      <td>4.887856</td>\n",
              "      <td>1.803020e+05</td>\n",
              "    </tr>\n",
              "    <tr>\n",
              "      <th>75%</th>\n",
              "      <td>9014.250000</td>\n",
              "      <td>49.611998</td>\n",
              "      <td>10.311597</td>\n",
              "      <td>3.098690e+05</td>\n",
              "    </tr>\n",
              "    <tr>\n",
              "      <th>max</th>\n",
              "      <td>12192.000000</td>\n",
              "      <td>64.145981</td>\n",
              "      <td>48.731938</td>\n",
              "      <td>8.416535e+06</td>\n",
              "    </tr>\n",
              "  </tbody>\n",
              "</table>\n",
              "</div>"
            ],
            "text/plain": [
              "                 id     latitude    longitude    population\n",
              "count   8040.000000  8040.000000  8040.000000  3.690000e+02\n",
              "mean    6328.786816    47.223456     6.299331  3.360184e+05\n",
              "std     3504.698537     3.700934     7.747070  5.840409e+05\n",
              "min        1.000000     1.370676  -101.397388  1.000460e+05\n",
              "25%     2501.500000    44.662402     1.214282  1.253750e+05\n",
              "50%     7003.500000    47.304750     4.887856  1.803020e+05\n",
              "75%     9014.250000    49.611998    10.311597  3.098690e+05\n",
              "max    12192.000000    64.145981    48.731938  8.416535e+06"
            ]
          },
          "metadata": {},
          "execution_count": 31
        }
      ]
    },
    {
      "cell_type": "code",
      "metadata": {
        "colab": {
          "base_uri": "https://localhost:8080/",
          "height": 203
        },
        "id": "bm-iFybYIJWg",
        "outputId": "0098441d-89d2-4e36-af2c-2af783851587"
      },
      "source": [
        "data_providers.head()"
      ],
      "execution_count": null,
      "outputs": [
        {
          "output_type": "execute_result",
          "data": {
            "text/html": [
              "<div>\n",
              "<style scoped>\n",
              "    .dataframe tbody tr th:only-of-type {\n",
              "        vertical-align: middle;\n",
              "    }\n",
              "\n",
              "    .dataframe tbody tr th {\n",
              "        vertical-align: top;\n",
              "    }\n",
              "\n",
              "    .dataframe thead th {\n",
              "        text-align: right;\n",
              "    }\n",
              "</style>\n",
              "<table border=\"1\" class=\"dataframe\">\n",
              "  <thead>\n",
              "    <tr style=\"text-align: right;\">\n",
              "      <th></th>\n",
              "      <th>id</th>\n",
              "      <th>company_id</th>\n",
              "      <th>provider_id</th>\n",
              "      <th>name</th>\n",
              "      <th>fullname</th>\n",
              "      <th>has_wifi</th>\n",
              "      <th>has_plug</th>\n",
              "      <th>has_adjustable_seats</th>\n",
              "      <th>has_bicycle</th>\n",
              "      <th>transport_type</th>\n",
              "    </tr>\n",
              "  </thead>\n",
              "  <tbody>\n",
              "    <tr>\n",
              "      <th>0</th>\n",
              "      <td>9</td>\n",
              "      <td>1</td>\n",
              "      <td>NaN</td>\n",
              "      <td>ouibus</td>\n",
              "      <td>Ouibus</td>\n",
              "      <td>True</td>\n",
              "      <td>True</td>\n",
              "      <td>True</td>\n",
              "      <td>False</td>\n",
              "      <td>bus</td>\n",
              "    </tr>\n",
              "    <tr>\n",
              "      <th>1</th>\n",
              "      <td>10</td>\n",
              "      <td>2</td>\n",
              "      <td>NaN</td>\n",
              "      <td>deinbus</td>\n",
              "      <td>Deinbus.de</td>\n",
              "      <td>False</td>\n",
              "      <td>False</td>\n",
              "      <td>False</td>\n",
              "      <td>False</td>\n",
              "      <td>bus</td>\n",
              "    </tr>\n",
              "    <tr>\n",
              "      <th>2</th>\n",
              "      <td>11</td>\n",
              "      <td>3</td>\n",
              "      <td>NaN</td>\n",
              "      <td>infobus</td>\n",
              "      <td>Infobus</td>\n",
              "      <td>False</td>\n",
              "      <td>False</td>\n",
              "      <td>False</td>\n",
              "      <td>False</td>\n",
              "      <td>bus</td>\n",
              "    </tr>\n",
              "    <tr>\n",
              "      <th>3</th>\n",
              "      <td>12</td>\n",
              "      <td>4</td>\n",
              "      <td>NaN</td>\n",
              "      <td>studentAgency</td>\n",
              "      <td>Student Agency</td>\n",
              "      <td>False</td>\n",
              "      <td>False</td>\n",
              "      <td>False</td>\n",
              "      <td>False</td>\n",
              "      <td>bus</td>\n",
              "    </tr>\n",
              "    <tr>\n",
              "      <th>4</th>\n",
              "      <td>13</td>\n",
              "      <td>5</td>\n",
              "      <td>NaN</td>\n",
              "      <td>flixbus</td>\n",
              "      <td>Flixbus</td>\n",
              "      <td>True</td>\n",
              "      <td>False</td>\n",
              "      <td>False</td>\n",
              "      <td>False</td>\n",
              "      <td>bus</td>\n",
              "    </tr>\n",
              "  </tbody>\n",
              "</table>\n",
              "</div>"
            ],
            "text/plain": [
              "   id  company_id provider_id  ... has_adjustable_seats has_bicycle transport_type\n",
              "0   9           1         NaN  ...                 True       False            bus\n",
              "1  10           2         NaN  ...                False       False            bus\n",
              "2  11           3         NaN  ...                False       False            bus\n",
              "3  12           4         NaN  ...                False       False            bus\n",
              "4  13           5         NaN  ...                False       False            bus\n",
              "\n",
              "[5 rows x 10 columns]"
            ]
          },
          "metadata": {},
          "execution_count": 5
        }
      ]
    },
    {
      "cell_type": "code",
      "metadata": {
        "colab": {
          "base_uri": "https://localhost:8080/",
          "height": 203
        },
        "id": "a6KA5P0NIPKC",
        "outputId": "07761374-b6e6-41d0-eafa-b9029bf1cebf"
      },
      "source": [
        "data_stations.head()"
      ],
      "execution_count": null,
      "outputs": [
        {
          "output_type": "execute_result",
          "data": {
            "text/html": [
              "<div>\n",
              "<style scoped>\n",
              "    .dataframe tbody tr th:only-of-type {\n",
              "        vertical-align: middle;\n",
              "    }\n",
              "\n",
              "    .dataframe tbody tr th {\n",
              "        vertical-align: top;\n",
              "    }\n",
              "\n",
              "    .dataframe thead th {\n",
              "        text-align: right;\n",
              "    }\n",
              "</style>\n",
              "<table border=\"1\" class=\"dataframe\">\n",
              "  <thead>\n",
              "    <tr style=\"text-align: right;\">\n",
              "      <th></th>\n",
              "      <th>id</th>\n",
              "      <th>unique_name</th>\n",
              "      <th>latitude</th>\n",
              "      <th>longitude</th>\n",
              "    </tr>\n",
              "  </thead>\n",
              "  <tbody>\n",
              "    <tr>\n",
              "      <th>0</th>\n",
              "      <td>1</td>\n",
              "      <td>Aalen (Stuttgarter Straße)</td>\n",
              "      <td>48.835296</td>\n",
              "      <td>10.092956</td>\n",
              "    </tr>\n",
              "    <tr>\n",
              "      <th>1</th>\n",
              "      <td>2</td>\n",
              "      <td>Aéroport Bordeaux-Mérignac</td>\n",
              "      <td>44.830226</td>\n",
              "      <td>-0.700883</td>\n",
              "    </tr>\n",
              "    <tr>\n",
              "      <th>2</th>\n",
              "      <td>3</td>\n",
              "      <td>Aéroport CDG</td>\n",
              "      <td>49.009900</td>\n",
              "      <td>2.559310</td>\n",
              "    </tr>\n",
              "    <tr>\n",
              "      <th>3</th>\n",
              "      <td>4</td>\n",
              "      <td>Aéroport de Berlin-Schönefeld</td>\n",
              "      <td>52.389446</td>\n",
              "      <td>13.520345</td>\n",
              "    </tr>\n",
              "    <tr>\n",
              "      <th>4</th>\n",
              "      <td>5</td>\n",
              "      <td>Aéroport de Dresden</td>\n",
              "      <td>51.123604</td>\n",
              "      <td>13.764737</td>\n",
              "    </tr>\n",
              "  </tbody>\n",
              "</table>\n",
              "</div>"
            ],
            "text/plain": [
              "   id                     unique_name   latitude  longitude\n",
              "0   1      Aalen (Stuttgarter Straße)  48.835296  10.092956\n",
              "1   2      Aéroport Bordeaux-Mérignac  44.830226  -0.700883\n",
              "2   3                   Aéroport CDG   49.009900   2.559310\n",
              "3   4  Aéroport de Berlin-Schönefeld   52.389446  13.520345\n",
              "4   5             Aéroport de Dresden  51.123604  13.764737"
            ]
          },
          "metadata": {},
          "execution_count": 6
        }
      ]
    },
    {
      "cell_type": "code",
      "metadata": {
        "colab": {
          "base_uri": "https://localhost:8080/",
          "height": 203
        },
        "id": "3LZ-rXdBIZaq",
        "outputId": "9fd012a1-c0fa-48cc-a907-2d9df9ff1924"
      },
      "source": [
        "data_ticket.head()"
      ],
      "execution_count": null,
      "outputs": [
        {
          "output_type": "execute_result",
          "data": {
            "text/html": [
              "<div>\n",
              "<style scoped>\n",
              "    .dataframe tbody tr th:only-of-type {\n",
              "        vertical-align: middle;\n",
              "    }\n",
              "\n",
              "    .dataframe tbody tr th {\n",
              "        vertical-align: top;\n",
              "    }\n",
              "\n",
              "    .dataframe thead th {\n",
              "        text-align: right;\n",
              "    }\n",
              "</style>\n",
              "<table border=\"1\" class=\"dataframe\">\n",
              "  <thead>\n",
              "    <tr style=\"text-align: right;\">\n",
              "      <th></th>\n",
              "      <th>id</th>\n",
              "      <th>company</th>\n",
              "      <th>o_station</th>\n",
              "      <th>d_station</th>\n",
              "      <th>departure_ts</th>\n",
              "      <th>arrival_ts</th>\n",
              "      <th>price_in_cents</th>\n",
              "      <th>search_ts</th>\n",
              "      <th>middle_stations</th>\n",
              "      <th>other_companies</th>\n",
              "      <th>o_city</th>\n",
              "      <th>d_city</th>\n",
              "    </tr>\n",
              "  </thead>\n",
              "  <tbody>\n",
              "    <tr>\n",
              "      <th>0</th>\n",
              "      <td>6795025</td>\n",
              "      <td>8385</td>\n",
              "      <td>NaN</td>\n",
              "      <td>NaN</td>\n",
              "      <td>2017-10-13 14:00:00+00</td>\n",
              "      <td>2017-10-13 20:10:00+00</td>\n",
              "      <td>4550</td>\n",
              "      <td>2017-10-01 00:13:31.327+00</td>\n",
              "      <td>NaN</td>\n",
              "      <td>NaN</td>\n",
              "      <td>611</td>\n",
              "      <td>542</td>\n",
              "    </tr>\n",
              "    <tr>\n",
              "      <th>1</th>\n",
              "      <td>6795026</td>\n",
              "      <td>9</td>\n",
              "      <td>63.0</td>\n",
              "      <td>1044.0</td>\n",
              "      <td>2017-10-13 13:05:00+00</td>\n",
              "      <td>2017-10-14 06:55:00+00</td>\n",
              "      <td>1450</td>\n",
              "      <td>2017-10-01 00:13:35.773+00</td>\n",
              "      <td>{149,418}</td>\n",
              "      <td>{13}</td>\n",
              "      <td>611</td>\n",
              "      <td>542</td>\n",
              "    </tr>\n",
              "    <tr>\n",
              "      <th>2</th>\n",
              "      <td>6795027</td>\n",
              "      <td>8377</td>\n",
              "      <td>5905.0</td>\n",
              "      <td>6495.0</td>\n",
              "      <td>2017-10-13 13:27:00+00</td>\n",
              "      <td>2017-10-14 21:24:00+00</td>\n",
              "      <td>7400</td>\n",
              "      <td>2017-10-01 00:13:40.212+00</td>\n",
              "      <td>{798,798,6794,6246}</td>\n",
              "      <td>{8377,8376}</td>\n",
              "      <td>611</td>\n",
              "      <td>542</td>\n",
              "    </tr>\n",
              "    <tr>\n",
              "      <th>3</th>\n",
              "      <td>6795028</td>\n",
              "      <td>8377</td>\n",
              "      <td>5905.0</td>\n",
              "      <td>6495.0</td>\n",
              "      <td>2017-10-13 13:27:00+00</td>\n",
              "      <td>2017-10-14 11:02:00+00</td>\n",
              "      <td>13500</td>\n",
              "      <td>2017-10-01 00:13:40.213+00</td>\n",
              "      <td>{798,798,6794,6246}</td>\n",
              "      <td>{8377,8376}</td>\n",
              "      <td>611</td>\n",
              "      <td>542</td>\n",
              "    </tr>\n",
              "    <tr>\n",
              "      <th>4</th>\n",
              "      <td>6795029</td>\n",
              "      <td>8381</td>\n",
              "      <td>5905.0</td>\n",
              "      <td>6495.0</td>\n",
              "      <td>2017-10-13 21:46:00+00</td>\n",
              "      <td>2017-10-14 19:32:00+00</td>\n",
              "      <td>7710</td>\n",
              "      <td>2017-10-01 00:13:40.213+00</td>\n",
              "      <td>{5983,5983}</td>\n",
              "      <td>{8380}</td>\n",
              "      <td>611</td>\n",
              "      <td>542</td>\n",
              "    </tr>\n",
              "  </tbody>\n",
              "</table>\n",
              "</div>"
            ],
            "text/plain": [
              "        id  company  o_station  ...  other_companies o_city d_city\n",
              "0  6795025     8385        NaN  ...              NaN    611    542\n",
              "1  6795026        9       63.0  ...             {13}    611    542\n",
              "2  6795027     8377     5905.0  ...      {8377,8376}    611    542\n",
              "3  6795028     8377     5905.0  ...      {8377,8376}    611    542\n",
              "4  6795029     8381     5905.0  ...           {8380}    611    542\n",
              "\n",
              "[5 rows x 12 columns]"
            ]
          },
          "metadata": {},
          "execution_count": 7
        }
      ]
    },
    {
      "cell_type": "code",
      "metadata": {
        "colab": {
          "base_uri": "https://localhost:8080/",
          "height": 295
        },
        "id": "hJCZpiSZ95Vw",
        "outputId": "a6eb5d0a-2382-4b35-d880-acbfc65d27ae"
      },
      "source": [
        "data_ticket.describe()"
      ],
      "execution_count": null,
      "outputs": [
        {
          "output_type": "execute_result",
          "data": {
            "text/html": [
              "<div>\n",
              "<style scoped>\n",
              "    .dataframe tbody tr th:only-of-type {\n",
              "        vertical-align: middle;\n",
              "    }\n",
              "\n",
              "    .dataframe tbody tr th {\n",
              "        vertical-align: top;\n",
              "    }\n",
              "\n",
              "    .dataframe thead th {\n",
              "        text-align: right;\n",
              "    }\n",
              "</style>\n",
              "<table border=\"1\" class=\"dataframe\">\n",
              "  <thead>\n",
              "    <tr style=\"text-align: right;\">\n",
              "      <th></th>\n",
              "      <th>id</th>\n",
              "      <th>company</th>\n",
              "      <th>o_station</th>\n",
              "      <th>d_station</th>\n",
              "      <th>price_in_cents</th>\n",
              "      <th>o_city</th>\n",
              "      <th>d_city</th>\n",
              "    </tr>\n",
              "  </thead>\n",
              "  <tbody>\n",
              "    <tr>\n",
              "      <th>count</th>\n",
              "      <td>7.416800e+04</td>\n",
              "      <td>74168.000000</td>\n",
              "      <td>32727.000000</td>\n",
              "      <td>32727.000000</td>\n",
              "      <td>74168.000000</td>\n",
              "      <td>74168.000000</td>\n",
              "      <td>74168.000000</td>\n",
              "    </tr>\n",
              "    <tr>\n",
              "      <th>mean</th>\n",
              "      <td>6.832108e+06</td>\n",
              "      <td>7109.565527</td>\n",
              "      <td>2907.132673</td>\n",
              "      <td>2347.858129</td>\n",
              "      <td>4382.711061</td>\n",
              "      <td>849.186105</td>\n",
              "      <td>883.776265</td>\n",
              "    </tr>\n",
              "    <tr>\n",
              "      <th>std</th>\n",
              "      <td>2.141060e+04</td>\n",
              "      <td>3005.380792</td>\n",
              "      <td>3347.629180</td>\n",
              "      <td>3090.798007</td>\n",
              "      <td>3739.325367</td>\n",
              "      <td>1485.791782</td>\n",
              "      <td>1654.698575</td>\n",
              "    </tr>\n",
              "    <tr>\n",
              "      <th>min</th>\n",
              "      <td>6.795025e+06</td>\n",
              "      <td>9.000000</td>\n",
              "      <td>3.000000</td>\n",
              "      <td>3.000000</td>\n",
              "      <td>300.000000</td>\n",
              "      <td>5.000000</td>\n",
              "      <td>1.000000</td>\n",
              "    </tr>\n",
              "    <tr>\n",
              "      <th>25%</th>\n",
              "      <td>6.813567e+06</td>\n",
              "      <td>8376.000000</td>\n",
              "      <td>400.000000</td>\n",
              "      <td>396.000000</td>\n",
              "      <td>1900.000000</td>\n",
              "      <td>485.000000</td>\n",
              "      <td>453.000000</td>\n",
              "    </tr>\n",
              "    <tr>\n",
              "      <th>50%</th>\n",
              "      <td>6.832108e+06</td>\n",
              "      <td>8385.000000</td>\n",
              "      <td>701.000000</td>\n",
              "      <td>575.000000</td>\n",
              "      <td>3350.000000</td>\n",
              "      <td>628.000000</td>\n",
              "      <td>562.000000</td>\n",
              "    </tr>\n",
              "    <tr>\n",
              "      <th>75%</th>\n",
              "      <td>6.850650e+06</td>\n",
              "      <td>8385.000000</td>\n",
              "      <td>6246.000000</td>\n",
              "      <td>4538.000000</td>\n",
              "      <td>5250.000000</td>\n",
              "      <td>628.000000</td>\n",
              "      <td>628.000000</td>\n",
              "    </tr>\n",
              "    <tr>\n",
              "      <th>max</th>\n",
              "      <td>6.869192e+06</td>\n",
              "      <td>8387.000000</td>\n",
              "      <td>11017.000000</td>\n",
              "      <td>11017.000000</td>\n",
              "      <td>38550.000000</td>\n",
              "      <td>12190.000000</td>\n",
              "      <td>12190.000000</td>\n",
              "    </tr>\n",
              "  </tbody>\n",
              "</table>\n",
              "</div>"
            ],
            "text/plain": [
              "                 id       company  ...        o_city        d_city\n",
              "count  7.416800e+04  74168.000000  ...  74168.000000  74168.000000\n",
              "mean   6.832108e+06   7109.565527  ...    849.186105    883.776265\n",
              "std    2.141060e+04   3005.380792  ...   1485.791782   1654.698575\n",
              "min    6.795025e+06      9.000000  ...      5.000000      1.000000\n",
              "25%    6.813567e+06   8376.000000  ...    485.000000    453.000000\n",
              "50%    6.832108e+06   8385.000000  ...    628.000000    562.000000\n",
              "75%    6.850650e+06   8385.000000  ...    628.000000    628.000000\n",
              "max    6.869192e+06   8387.000000  ...  12190.000000  12190.000000\n",
              "\n",
              "[8 rows x 7 columns]"
            ]
          },
          "metadata": {},
          "execution_count": 32
        }
      ]
    },
    {
      "cell_type": "markdown",
      "metadata": {
        "id": "DQTBwBEUWIzG"
      },
      "source": [
        "## 1 ) Extraire les infos intéressantes type prix min, moyen et max, durée min/max/moyenne par trajet\n"
      ]
    },
    {
      "cell_type": "code",
      "metadata": {
        "colab": {
          "base_uri": "https://localhost:8080/",
          "height": 203
        },
        "id": "vFx1Cz6CWP7V",
        "outputId": "b8b34082-a9d6-4127-c6dd-4058d4fc1955"
      },
      "source": [
        "# Création d'un dataframe avec le prix, les trajets, et la durée\n",
        "df_1 = data_ticket[['departure_ts', 'arrival_ts', 'price_in_cents', 'o_city', 'd_city']]\n",
        "df_1.head()"
      ],
      "execution_count": null,
      "outputs": [
        {
          "output_type": "execute_result",
          "data": {
            "text/html": [
              "<div>\n",
              "<style scoped>\n",
              "    .dataframe tbody tr th:only-of-type {\n",
              "        vertical-align: middle;\n",
              "    }\n",
              "\n",
              "    .dataframe tbody tr th {\n",
              "        vertical-align: top;\n",
              "    }\n",
              "\n",
              "    .dataframe thead th {\n",
              "        text-align: right;\n",
              "    }\n",
              "</style>\n",
              "<table border=\"1\" class=\"dataframe\">\n",
              "  <thead>\n",
              "    <tr style=\"text-align: right;\">\n",
              "      <th></th>\n",
              "      <th>departure_ts</th>\n",
              "      <th>arrival_ts</th>\n",
              "      <th>price_in_cents</th>\n",
              "      <th>o_city</th>\n",
              "      <th>d_city</th>\n",
              "    </tr>\n",
              "  </thead>\n",
              "  <tbody>\n",
              "    <tr>\n",
              "      <th>0</th>\n",
              "      <td>2017-10-13 14:00:00+00</td>\n",
              "      <td>2017-10-13 20:10:00+00</td>\n",
              "      <td>4550</td>\n",
              "      <td>611</td>\n",
              "      <td>542</td>\n",
              "    </tr>\n",
              "    <tr>\n",
              "      <th>1</th>\n",
              "      <td>2017-10-13 13:05:00+00</td>\n",
              "      <td>2017-10-14 06:55:00+00</td>\n",
              "      <td>1450</td>\n",
              "      <td>611</td>\n",
              "      <td>542</td>\n",
              "    </tr>\n",
              "    <tr>\n",
              "      <th>2</th>\n",
              "      <td>2017-10-13 13:27:00+00</td>\n",
              "      <td>2017-10-14 21:24:00+00</td>\n",
              "      <td>7400</td>\n",
              "      <td>611</td>\n",
              "      <td>542</td>\n",
              "    </tr>\n",
              "    <tr>\n",
              "      <th>3</th>\n",
              "      <td>2017-10-13 13:27:00+00</td>\n",
              "      <td>2017-10-14 11:02:00+00</td>\n",
              "      <td>13500</td>\n",
              "      <td>611</td>\n",
              "      <td>542</td>\n",
              "    </tr>\n",
              "    <tr>\n",
              "      <th>4</th>\n",
              "      <td>2017-10-13 21:46:00+00</td>\n",
              "      <td>2017-10-14 19:32:00+00</td>\n",
              "      <td>7710</td>\n",
              "      <td>611</td>\n",
              "      <td>542</td>\n",
              "    </tr>\n",
              "  </tbody>\n",
              "</table>\n",
              "</div>"
            ],
            "text/plain": [
              "             departure_ts              arrival_ts  ...  o_city  d_city\n",
              "0  2017-10-13 14:00:00+00  2017-10-13 20:10:00+00  ...     611     542\n",
              "1  2017-10-13 13:05:00+00  2017-10-14 06:55:00+00  ...     611     542\n",
              "2  2017-10-13 13:27:00+00  2017-10-14 21:24:00+00  ...     611     542\n",
              "3  2017-10-13 13:27:00+00  2017-10-14 11:02:00+00  ...     611     542\n",
              "4  2017-10-13 21:46:00+00  2017-10-14 19:32:00+00  ...     611     542\n",
              "\n",
              "[5 rows x 5 columns]"
            ]
          },
          "metadata": {},
          "execution_count": 8
        }
      ]
    },
    {
      "cell_type": "code",
      "metadata": {
        "colab": {
          "base_uri": "https://localhost:8080/",
          "height": 203
        },
        "id": "km2-NTAsdFKy",
        "outputId": "96791549-9f1d-4837-9d23-745ecc43d3dc"
      },
      "source": [
        "# Changement des IDs des villes par les noms  \n",
        "df_1 = pd.merge(df_1, data_cities[['id','unique_name']], left_on=\"o_city\", right_on='id')\n",
        "df_1 = df_1.drop([\"o_city\",\"id\"], axis=1)\n",
        "df_1 = df_1.rename(columns={\"unique_name\": \"o_city\"})\n",
        "df_1 = pd.merge(df_1, data_cities[['id','unique_name']], left_on=\"d_city\", right_on='id')\n",
        "df_1 = df_1.drop([\"d_city\",\"id\"], axis=1)\n",
        "df_1 = df_1.rename(columns={\"unique_name\": \"d_city\"})\n",
        "df_1.head()"
      ],
      "execution_count": null,
      "outputs": [
        {
          "output_type": "execute_result",
          "data": {
            "text/html": [
              "<div>\n",
              "<style scoped>\n",
              "    .dataframe tbody tr th:only-of-type {\n",
              "        vertical-align: middle;\n",
              "    }\n",
              "\n",
              "    .dataframe tbody tr th {\n",
              "        vertical-align: top;\n",
              "    }\n",
              "\n",
              "    .dataframe thead th {\n",
              "        text-align: right;\n",
              "    }\n",
              "</style>\n",
              "<table border=\"1\" class=\"dataframe\">\n",
              "  <thead>\n",
              "    <tr style=\"text-align: right;\">\n",
              "      <th></th>\n",
              "      <th>departure_ts</th>\n",
              "      <th>arrival_ts</th>\n",
              "      <th>price_in_cents</th>\n",
              "      <th>o_city</th>\n",
              "      <th>d_city</th>\n",
              "    </tr>\n",
              "  </thead>\n",
              "  <tbody>\n",
              "    <tr>\n",
              "      <th>0</th>\n",
              "      <td>2017-10-13 14:00:00+00</td>\n",
              "      <td>2017-10-13 20:10:00+00</td>\n",
              "      <td>4550</td>\n",
              "      <td>orleans</td>\n",
              "      <td>montpellier</td>\n",
              "    </tr>\n",
              "    <tr>\n",
              "      <th>1</th>\n",
              "      <td>2017-10-13 13:05:00+00</td>\n",
              "      <td>2017-10-14 06:55:00+00</td>\n",
              "      <td>1450</td>\n",
              "      <td>orleans</td>\n",
              "      <td>montpellier</td>\n",
              "    </tr>\n",
              "    <tr>\n",
              "      <th>2</th>\n",
              "      <td>2017-10-13 13:27:00+00</td>\n",
              "      <td>2017-10-14 21:24:00+00</td>\n",
              "      <td>7400</td>\n",
              "      <td>orleans</td>\n",
              "      <td>montpellier</td>\n",
              "    </tr>\n",
              "    <tr>\n",
              "      <th>3</th>\n",
              "      <td>2017-10-13 13:27:00+00</td>\n",
              "      <td>2017-10-14 11:02:00+00</td>\n",
              "      <td>13500</td>\n",
              "      <td>orleans</td>\n",
              "      <td>montpellier</td>\n",
              "    </tr>\n",
              "    <tr>\n",
              "      <th>4</th>\n",
              "      <td>2017-10-13 21:46:00+00</td>\n",
              "      <td>2017-10-14 19:32:00+00</td>\n",
              "      <td>7710</td>\n",
              "      <td>orleans</td>\n",
              "      <td>montpellier</td>\n",
              "    </tr>\n",
              "  </tbody>\n",
              "</table>\n",
              "</div>"
            ],
            "text/plain": [
              "             departure_ts              arrival_ts  ...   o_city       d_city\n",
              "0  2017-10-13 14:00:00+00  2017-10-13 20:10:00+00  ...  orleans  montpellier\n",
              "1  2017-10-13 13:05:00+00  2017-10-14 06:55:00+00  ...  orleans  montpellier\n",
              "2  2017-10-13 13:27:00+00  2017-10-14 21:24:00+00  ...  orleans  montpellier\n",
              "3  2017-10-13 13:27:00+00  2017-10-14 11:02:00+00  ...  orleans  montpellier\n",
              "4  2017-10-13 21:46:00+00  2017-10-14 19:32:00+00  ...  orleans  montpellier\n",
              "\n",
              "[5 rows x 5 columns]"
            ]
          },
          "metadata": {},
          "execution_count": 9
        }
      ]
    },
    {
      "cell_type": "code",
      "metadata": {
        "id": "yZdfZi8kibW0"
      },
      "source": [
        "# Calul du temps de trajet en heur\n",
        "# Convertion des colonnes departure_ts et arrival_ts en format date\n",
        "df_1['departure_ts'] = pd.to_datetime(df_1['departure_ts'])\n",
        "df_1['arrival_ts'] = pd.to_datetime(df_1['arrival_ts'])\n",
        "\n",
        "# Création d'une fonction pour calculer le temps de trajet\n",
        "\n",
        "def time(departure, arrival):\n",
        "  t = arrival - departure\n",
        "  return int(t.total_seconds()/3600)\n",
        "  \n",
        "df_1['time'] = df_1.apply(lambda x: time(x['departure_ts'], x['arrival_ts']), axis=1)"
      ],
      "execution_count": null,
      "outputs": []
    },
    {
      "cell_type": "code",
      "metadata": {
        "colab": {
          "base_uri": "https://localhost:8080/",
          "height": 203
        },
        "id": "pNQfKzJrpPTW",
        "outputId": "5f53658e-ac88-45e8-b395-b923ce013ca1"
      },
      "source": [
        "df_1.head()"
      ],
      "execution_count": null,
      "outputs": [
        {
          "output_type": "execute_result",
          "data": {
            "text/html": [
              "<div>\n",
              "<style scoped>\n",
              "    .dataframe tbody tr th:only-of-type {\n",
              "        vertical-align: middle;\n",
              "    }\n",
              "\n",
              "    .dataframe tbody tr th {\n",
              "        vertical-align: top;\n",
              "    }\n",
              "\n",
              "    .dataframe thead th {\n",
              "        text-align: right;\n",
              "    }\n",
              "</style>\n",
              "<table border=\"1\" class=\"dataframe\">\n",
              "  <thead>\n",
              "    <tr style=\"text-align: right;\">\n",
              "      <th></th>\n",
              "      <th>departure_ts</th>\n",
              "      <th>arrival_ts</th>\n",
              "      <th>price_in_cents</th>\n",
              "      <th>o_city</th>\n",
              "      <th>d_city</th>\n",
              "      <th>time</th>\n",
              "    </tr>\n",
              "  </thead>\n",
              "  <tbody>\n",
              "    <tr>\n",
              "      <th>0</th>\n",
              "      <td>2017-10-13 14:00:00+00:00</td>\n",
              "      <td>2017-10-13 20:10:00+00:00</td>\n",
              "      <td>4550</td>\n",
              "      <td>orleans</td>\n",
              "      <td>montpellier</td>\n",
              "      <td>6</td>\n",
              "    </tr>\n",
              "    <tr>\n",
              "      <th>1</th>\n",
              "      <td>2017-10-13 13:05:00+00:00</td>\n",
              "      <td>2017-10-14 06:55:00+00:00</td>\n",
              "      <td>1450</td>\n",
              "      <td>orleans</td>\n",
              "      <td>montpellier</td>\n",
              "      <td>17</td>\n",
              "    </tr>\n",
              "    <tr>\n",
              "      <th>2</th>\n",
              "      <td>2017-10-13 13:27:00+00:00</td>\n",
              "      <td>2017-10-14 21:24:00+00:00</td>\n",
              "      <td>7400</td>\n",
              "      <td>orleans</td>\n",
              "      <td>montpellier</td>\n",
              "      <td>31</td>\n",
              "    </tr>\n",
              "    <tr>\n",
              "      <th>3</th>\n",
              "      <td>2017-10-13 13:27:00+00:00</td>\n",
              "      <td>2017-10-14 11:02:00+00:00</td>\n",
              "      <td>13500</td>\n",
              "      <td>orleans</td>\n",
              "      <td>montpellier</td>\n",
              "      <td>21</td>\n",
              "    </tr>\n",
              "    <tr>\n",
              "      <th>4</th>\n",
              "      <td>2017-10-13 21:46:00+00:00</td>\n",
              "      <td>2017-10-14 19:32:00+00:00</td>\n",
              "      <td>7710</td>\n",
              "      <td>orleans</td>\n",
              "      <td>montpellier</td>\n",
              "      <td>21</td>\n",
              "    </tr>\n",
              "  </tbody>\n",
              "</table>\n",
              "</div>"
            ],
            "text/plain": [
              "               departure_ts                arrival_ts  ...       d_city time\n",
              "0 2017-10-13 14:00:00+00:00 2017-10-13 20:10:00+00:00  ...  montpellier    6\n",
              "1 2017-10-13 13:05:00+00:00 2017-10-14 06:55:00+00:00  ...  montpellier   17\n",
              "2 2017-10-13 13:27:00+00:00 2017-10-14 21:24:00+00:00  ...  montpellier   31\n",
              "3 2017-10-13 13:27:00+00:00 2017-10-14 11:02:00+00:00  ...  montpellier   21\n",
              "4 2017-10-13 21:46:00+00:00 2017-10-14 19:32:00+00:00  ...  montpellier   21\n",
              "\n",
              "[5 rows x 6 columns]"
            ]
          },
          "metadata": {},
          "execution_count": 11
        }
      ]
    },
    {
      "cell_type": "code",
      "metadata": {
        "id": "nZZQ3YMLaM3_"
      },
      "source": [
        "df_1 = df_1.drop(['departure_ts','arrival_ts'], axis=1)\n"
      ],
      "execution_count": null,
      "outputs": []
    },
    {
      "cell_type": "code",
      "metadata": {
        "colab": {
          "base_uri": "https://localhost:8080/",
          "height": 203
        },
        "id": "jlP6iiEIwaFf",
        "outputId": "3bad70e9-1d11-4046-b434-ca5cf3ae2ab6"
      },
      "source": [
        "df_1.head()"
      ],
      "execution_count": null,
      "outputs": [
        {
          "output_type": "execute_result",
          "data": {
            "text/html": [
              "<div>\n",
              "<style scoped>\n",
              "    .dataframe tbody tr th:only-of-type {\n",
              "        vertical-align: middle;\n",
              "    }\n",
              "\n",
              "    .dataframe tbody tr th {\n",
              "        vertical-align: top;\n",
              "    }\n",
              "\n",
              "    .dataframe thead th {\n",
              "        text-align: right;\n",
              "    }\n",
              "</style>\n",
              "<table border=\"1\" class=\"dataframe\">\n",
              "  <thead>\n",
              "    <tr style=\"text-align: right;\">\n",
              "      <th></th>\n",
              "      <th>price_in_cents</th>\n",
              "      <th>o_city</th>\n",
              "      <th>d_city</th>\n",
              "      <th>time</th>\n",
              "    </tr>\n",
              "  </thead>\n",
              "  <tbody>\n",
              "    <tr>\n",
              "      <th>0</th>\n",
              "      <td>4550</td>\n",
              "      <td>orleans</td>\n",
              "      <td>montpellier</td>\n",
              "      <td>6</td>\n",
              "    </tr>\n",
              "    <tr>\n",
              "      <th>1</th>\n",
              "      <td>1450</td>\n",
              "      <td>orleans</td>\n",
              "      <td>montpellier</td>\n",
              "      <td>17</td>\n",
              "    </tr>\n",
              "    <tr>\n",
              "      <th>2</th>\n",
              "      <td>7400</td>\n",
              "      <td>orleans</td>\n",
              "      <td>montpellier</td>\n",
              "      <td>31</td>\n",
              "    </tr>\n",
              "    <tr>\n",
              "      <th>3</th>\n",
              "      <td>13500</td>\n",
              "      <td>orleans</td>\n",
              "      <td>montpellier</td>\n",
              "      <td>21</td>\n",
              "    </tr>\n",
              "    <tr>\n",
              "      <th>4</th>\n",
              "      <td>7710</td>\n",
              "      <td>orleans</td>\n",
              "      <td>montpellier</td>\n",
              "      <td>21</td>\n",
              "    </tr>\n",
              "  </tbody>\n",
              "</table>\n",
              "</div>"
            ],
            "text/plain": [
              "   price_in_cents   o_city       d_city  time\n",
              "0            4550  orleans  montpellier     6\n",
              "1            1450  orleans  montpellier    17\n",
              "2            7400  orleans  montpellier    31\n",
              "3           13500  orleans  montpellier    21\n",
              "4            7710  orleans  montpellier    21"
            ]
          },
          "metadata": {},
          "execution_count": 13
        }
      ]
    },
    {
      "cell_type": "code",
      "metadata": {
        "colab": {
          "base_uri": "https://localhost:8080/",
          "height": 478
        },
        "id": "dUnj4PI2w2zU",
        "outputId": "40f746f4-1924-40e3-da18-3781ee371bb1"
      },
      "source": [
        "# Création d'un pivot table avec en index la ville de départ et celle d'arrivé \n",
        "df_pt_1 = pd.pivot_table(df_1, index=['o_city','d_city'],values=['price_in_cents','time'],aggfunc=[np.mean, np.max, np.min, len])\n",
        "df_pt_1"
      ],
      "execution_count": null,
      "outputs": [
        {
          "output_type": "execute_result",
          "data": {
            "text/html": [
              "<div>\n",
              "<style scoped>\n",
              "    .dataframe tbody tr th:only-of-type {\n",
              "        vertical-align: middle;\n",
              "    }\n",
              "\n",
              "    .dataframe tbody tr th {\n",
              "        vertical-align: top;\n",
              "    }\n",
              "\n",
              "    .dataframe thead tr th {\n",
              "        text-align: left;\n",
              "    }\n",
              "\n",
              "    .dataframe thead tr:last-of-type th {\n",
              "        text-align: right;\n",
              "    }\n",
              "</style>\n",
              "<table border=\"1\" class=\"dataframe\">\n",
              "  <thead>\n",
              "    <tr>\n",
              "      <th></th>\n",
              "      <th></th>\n",
              "      <th colspan=\"2\" halign=\"left\">mean</th>\n",
              "      <th colspan=\"2\" halign=\"left\">amax</th>\n",
              "      <th colspan=\"2\" halign=\"left\">amin</th>\n",
              "      <th colspan=\"2\" halign=\"left\">len</th>\n",
              "    </tr>\n",
              "    <tr>\n",
              "      <th></th>\n",
              "      <th></th>\n",
              "      <th>price_in_cents</th>\n",
              "      <th>time</th>\n",
              "      <th>price_in_cents</th>\n",
              "      <th>time</th>\n",
              "      <th>price_in_cents</th>\n",
              "      <th>time</th>\n",
              "      <th>price_in_cents</th>\n",
              "      <th>time</th>\n",
              "    </tr>\n",
              "    <tr>\n",
              "      <th>o_city</th>\n",
              "      <th>d_city</th>\n",
              "      <th></th>\n",
              "      <th></th>\n",
              "      <th></th>\n",
              "      <th></th>\n",
              "      <th></th>\n",
              "      <th></th>\n",
              "      <th></th>\n",
              "      <th></th>\n",
              "    </tr>\n",
              "  </thead>\n",
              "  <tbody>\n",
              "    <tr>\n",
              "      <th>aeroport-paris-vatry-</th>\n",
              "      <th>troyes</th>\n",
              "      <td>5300.000000</td>\n",
              "      <td>21.000000</td>\n",
              "      <td>5300</td>\n",
              "      <td>21</td>\n",
              "      <td>5300</td>\n",
              "      <td>21</td>\n",
              "      <td>1</td>\n",
              "      <td>1</td>\n",
              "    </tr>\n",
              "    <tr>\n",
              "      <th>agde</th>\n",
              "      <th>amsterdam</th>\n",
              "      <td>20320.000000</td>\n",
              "      <td>9.400000</td>\n",
              "      <td>22000</td>\n",
              "      <td>15</td>\n",
              "      <td>18600</td>\n",
              "      <td>8</td>\n",
              "      <td>5</td>\n",
              "      <td>5</td>\n",
              "    </tr>\n",
              "    <tr>\n",
              "      <th rowspan=\"3\" valign=\"top\">agen</th>\n",
              "      <th>dijon</th>\n",
              "      <td>11755.000000</td>\n",
              "      <td>13.500000</td>\n",
              "      <td>13650</td>\n",
              "      <td>15</td>\n",
              "      <td>9860</td>\n",
              "      <td>12</td>\n",
              "      <td>2</td>\n",
              "      <td>2</td>\n",
              "    </tr>\n",
              "    <tr>\n",
              "      <th>marseille</th>\n",
              "      <td>4042.666667</td>\n",
              "      <td>7.966667</td>\n",
              "      <td>8920</td>\n",
              "      <td>12</td>\n",
              "      <td>2000</td>\n",
              "      <td>5</td>\n",
              "      <td>30</td>\n",
              "      <td>30</td>\n",
              "    </tr>\n",
              "    <tr>\n",
              "      <th>marseille-aeroport</th>\n",
              "      <td>3833.333333</td>\n",
              "      <td>5.666667</td>\n",
              "      <td>4050</td>\n",
              "      <td>8</td>\n",
              "      <td>3700</td>\n",
              "      <td>5</td>\n",
              "      <td>6</td>\n",
              "      <td>6</td>\n",
              "    </tr>\n",
              "    <tr>\n",
              "      <th>...</th>\n",
              "      <th>...</th>\n",
              "      <td>...</td>\n",
              "      <td>...</td>\n",
              "      <td>...</td>\n",
              "      <td>...</td>\n",
              "      <td>...</td>\n",
              "      <td>...</td>\n",
              "      <td>...</td>\n",
              "      <td>...</td>\n",
              "    </tr>\n",
              "    <tr>\n",
              "      <th>villefranche-sur-cher</th>\n",
              "      <th>bordeaux</th>\n",
              "      <td>5885.000000</td>\n",
              "      <td>11.200000</td>\n",
              "      <td>7670</td>\n",
              "      <td>37</td>\n",
              "      <td>3060</td>\n",
              "      <td>3</td>\n",
              "      <td>10</td>\n",
              "      <td>10</td>\n",
              "    </tr>\n",
              "    <tr>\n",
              "      <th>vitre</th>\n",
              "      <th>nice</th>\n",
              "      <td>18495.000000</td>\n",
              "      <td>10.000000</td>\n",
              "      <td>21920</td>\n",
              "      <td>11</td>\n",
              "      <td>15070</td>\n",
              "      <td>9</td>\n",
              "      <td>2</td>\n",
              "      <td>2</td>\n",
              "    </tr>\n",
              "    <tr>\n",
              "      <th rowspan=\"3\" valign=\"top\">zurich</th>\n",
              "      <th>dijon</th>\n",
              "      <td>1872.500000</td>\n",
              "      <td>12.500000</td>\n",
              "      <td>2400</td>\n",
              "      <td>17</td>\n",
              "      <td>1400</td>\n",
              "      <td>8</td>\n",
              "      <td>4</td>\n",
              "      <td>4</td>\n",
              "    </tr>\n",
              "    <tr>\n",
              "      <th>liege</th>\n",
              "      <td>4096.666667</td>\n",
              "      <td>7.000000</td>\n",
              "      <td>4190</td>\n",
              "      <td>11</td>\n",
              "      <td>4050</td>\n",
              "      <td>5</td>\n",
              "      <td>9</td>\n",
              "      <td>9</td>\n",
              "    </tr>\n",
              "    <tr>\n",
              "      <th>strasbourg</th>\n",
              "      <td>1590.000000</td>\n",
              "      <td>6.400000</td>\n",
              "      <td>1780</td>\n",
              "      <td>10</td>\n",
              "      <td>1400</td>\n",
              "      <td>4</td>\n",
              "      <td>5</td>\n",
              "      <td>5</td>\n",
              "    </tr>\n",
              "  </tbody>\n",
              "</table>\n",
              "<p>1437 rows × 8 columns</p>\n",
              "</div>"
            ],
            "text/plain": [
              "                                                   mean  ...  len\n",
              "                                         price_in_cents  ... time\n",
              "o_city                d_city                             ...     \n",
              "aeroport-paris-vatry- troyes                5300.000000  ...    1\n",
              "agde                  amsterdam            20320.000000  ...    5\n",
              "agen                  dijon                11755.000000  ...    2\n",
              "                      marseille             4042.666667  ...   30\n",
              "                      marseille-aeroport    3833.333333  ...    6\n",
              "...                                                 ...  ...  ...\n",
              "villefranche-sur-cher bordeaux              5885.000000  ...   10\n",
              "vitre                 nice                 18495.000000  ...    2\n",
              "zurich                dijon                 1872.500000  ...    4\n",
              "                      liege                 4096.666667  ...    9\n",
              "                      strasbourg            1590.000000  ...    5\n",
              "\n",
              "[1437 rows x 8 columns]"
            ]
          },
          "metadata": {},
          "execution_count": 14
        }
      ]
    },
    {
      "cell_type": "markdown",
      "metadata": {
        "id": "YmmkClVw-mJ6"
      },
      "source": [
        "Maintenant que j'ai un dataframe qui répond à la question je vais utiliser Streamlit pour visualiser les différents résultats de manière interactive."
      ]
    },
    {
      "cell_type": "code",
      "metadata": {
        "id": "N66E_wfe-3gJ"
      },
      "source": [
        "Problèmétique : Distribution des prix et des temps de trajets"
      ],
      "execution_count": null,
      "outputs": []
    },
    {
      "cell_type": "code",
      "metadata": {
        "colab": {
          "base_uri": "https://localhost:8080/",
          "height": 203
        },
        "id": "SfEgMPOr_CFm",
        "outputId": "c8353d65-0e17-4b35-dbd2-04b244a1b03f"
      },
      "source": [
        "# Distribution des prix (en euros) de l'ensemble des trajets\n",
        "\n",
        "df_1[\"price_in_euros\"] = df_1[\"price_in_cents\"].apply(lambda x : int(x/100))\n",
        "df_1.head()"
      ],
      "execution_count": null,
      "outputs": [
        {
          "output_type": "execute_result",
          "data": {
            "text/html": [
              "<div>\n",
              "<style scoped>\n",
              "    .dataframe tbody tr th:only-of-type {\n",
              "        vertical-align: middle;\n",
              "    }\n",
              "\n",
              "    .dataframe tbody tr th {\n",
              "        vertical-align: top;\n",
              "    }\n",
              "\n",
              "    .dataframe thead th {\n",
              "        text-align: right;\n",
              "    }\n",
              "</style>\n",
              "<table border=\"1\" class=\"dataframe\">\n",
              "  <thead>\n",
              "    <tr style=\"text-align: right;\">\n",
              "      <th></th>\n",
              "      <th>price_in_cents</th>\n",
              "      <th>o_city</th>\n",
              "      <th>d_city</th>\n",
              "      <th>time</th>\n",
              "      <th>price_in_euros</th>\n",
              "    </tr>\n",
              "  </thead>\n",
              "  <tbody>\n",
              "    <tr>\n",
              "      <th>0</th>\n",
              "      <td>4550</td>\n",
              "      <td>orleans</td>\n",
              "      <td>montpellier</td>\n",
              "      <td>6</td>\n",
              "      <td>45</td>\n",
              "    </tr>\n",
              "    <tr>\n",
              "      <th>1</th>\n",
              "      <td>1450</td>\n",
              "      <td>orleans</td>\n",
              "      <td>montpellier</td>\n",
              "      <td>17</td>\n",
              "      <td>14</td>\n",
              "    </tr>\n",
              "    <tr>\n",
              "      <th>2</th>\n",
              "      <td>7400</td>\n",
              "      <td>orleans</td>\n",
              "      <td>montpellier</td>\n",
              "      <td>31</td>\n",
              "      <td>74</td>\n",
              "    </tr>\n",
              "    <tr>\n",
              "      <th>3</th>\n",
              "      <td>13500</td>\n",
              "      <td>orleans</td>\n",
              "      <td>montpellier</td>\n",
              "      <td>21</td>\n",
              "      <td>135</td>\n",
              "    </tr>\n",
              "    <tr>\n",
              "      <th>4</th>\n",
              "      <td>7710</td>\n",
              "      <td>orleans</td>\n",
              "      <td>montpellier</td>\n",
              "      <td>21</td>\n",
              "      <td>77</td>\n",
              "    </tr>\n",
              "  </tbody>\n",
              "</table>\n",
              "</div>"
            ],
            "text/plain": [
              "   price_in_cents   o_city       d_city  time  price_in_euros\n",
              "0            4550  orleans  montpellier     6              45\n",
              "1            1450  orleans  montpellier    17              14\n",
              "2            7400  orleans  montpellier    31              74\n",
              "3           13500  orleans  montpellier    21             135\n",
              "4            7710  orleans  montpellier    21              77"
            ]
          },
          "metadata": {},
          "execution_count": 36
        }
      ]
    },
    {
      "cell_type": "code",
      "metadata": {
        "colab": {
          "base_uri": "https://localhost:8080/",
          "height": 443
        },
        "id": "PJwLJuFIAm4A",
        "outputId": "012e8ee4-f5a5-43d4-879f-c357a5ea2b91"
      },
      "source": [
        "fig = plt.figure(figsize=(30,20))\n",
        "ax = fig.add_axes([0.25]*4)\n",
        "ax.hist(df_1['price_in_euros'], 40)\n",
        "ticks = [t for t in range(0,400,25)]\n",
        "ax.set_xticks(ticks)\n",
        "ax.set_title(\"Distribution des prix de l'ensemble des trajets\")\n",
        "ax.set_xlabel(\"Prix en Euros\")\n",
        "plt.show()"
      ],
      "execution_count": null,
      "outputs": [
        {
          "output_type": "display_data",
          "data": {
            "image/png": "[encoded data removed]",
            "text/plain": [
              "<Figure size 2160x1440 with 1 Axes>"
            ]
          },
          "metadata": {}
        }
      ]
    },
    {
      "cell_type": "markdown",
      "metadata": {
        "id": "KkcjL4eHdP4G"
      },
      "source": [
        "Problèmatique : Il y a t'il une corélation entre le temps de trajet et le prix ?"
      ]
    },
    {
      "cell_type": "code",
      "metadata": {
        "colab": {
          "base_uri": "https://localhost:8080/",
          "height": 542
        },
        "id": "Y1sGLmo9bAwl",
        "outputId": "f00066ae-64b6-4882-bc41-d79d56e3136b"
      },
      "source": [
        "# Comparaion du prix et du temps de trajet\n",
        "df_dv_1 = df_pt_1['mean'].sort_values(by=['price_in_cents'])\n",
        "fig = px.line(df_dv_1, x=\"price_in_cents\", y=\"time\", title=\"Comparaison prix et temps de trajet\")\n",
        "\n",
        "fig.show()"
      ],
      "execution_count": null,
      "outputs": [
        {
          "output_type": "display_data",
          "data": {
            "text/html": [
              "<html>\n",
              "<head><meta charset=\"utf-8\" /></head>\n",
              "<body>\n",
              "    <div>\n",
              "            <script src=\"https://cdnjs.cloudflare.com/ajax/libs/mathjax/2.7.5/MathJax.js?config=TeX-AMS-MML_SVG\"></script><script type=\"text/javascript\">if (window.MathJax) {MathJax.Hub.Config({SVG: {font: \"STIX-Web\"}});}</script>\n",
              "                <script type=\"text/javascript\">window.PlotlyConfig = {MathJaxConfig: 'local'};</script>\n",
              "        <script src=\"https://cdn.plot.ly/plotly-latest.min.js\"></script>    \n",
              "            <div id=\"307bfff4-a109-4977-b67d-eae000855d59\" class=\"plotly-graph-div\" style=\"height:525px; width:100%;\"></div>\n",
              "            <script type=\"text/javascript\">\n",
              "                \n",
              "                    window.PLOTLYENV=window.PLOTLYENV || {};\n",
              "                    \n",
              "                if (document.getElementById(\"307bfff4-a109-4977-b67d-eae000855d59\")) {\n",
              "                    Plotly.newPlot(\n",
              "                        '307bfff4-a109-4977-b67d-eae000855d59',\n",
              "                        [{\"hoverlabel\": {\"namelength\": 0}, \"hovertemplate\": \"price_in_cents=%{x}<br>time=%{y}\", \"legendgroup\": \"\", \"line\": {\"color\": \"#636efa\", \"dash\": \"solid\"}, \"mode\": \"lines\", \"name\": \"\", \"showlegend\": false, \"type\": \"scattergl\", \"x\": [320.0, 466.6666666666667, 466.6666666666667, 500.0, 500.0, 500.0, 500.0, 505.0, 511.1111111111111, 530.0, 533.3333333333334, 540.0, 583.3333333333334, 587.5, 600.0, 600.0, 600.0, 600.0, 606.3636363636364, 624.3589743589744, 627.7049180327868, 650.0, 655.2631578947369, 675.0, 679.2682926829268, 688.8888888888889, 712.5, 725.0, 730.0, 735.6026058631921, 750.0, 788.9473684210526, 790.0, 800.0, 803.0612244897959, 810.0, 834.8888888888889, 845.0, 864.6268656716418, 867.3076923076923, 868.8372093023256, 875.0, 883.3333333333334, 888.0952380952381, 890.5555555555555, 894.0, 900.0, 920.0, 933.3333333333334, 937.5, 950.0, 959.0909090909091, 974.0, 983.4224598930481, 984.2519685039371, 984.5070422535211, 988.6666666666666, 1003.8461538461538, 1010.6837606837607, 1018.918918918919, 1020.0, 1033.3333333333333, 1037.2413793103449, 1046.25, 1050.0, 1050.0, 1068.1818181818182, 1069.047619047619, 1072.2222222222222, 1076.6666666666667, 1084.0, 1089.6881959910913, 1100.0, 1100.0, 1100.6586826347304, 1103.1818181818182, 1113.5, 1113.5294117647059, 1117.142857142857, 1123.076923076923, 1148.0, 1148.6, 1150.0, 1150.967741935484, 1160.3191489361702, 1166.8695652173913, 1170.0, 1170.0, 1171.4285714285713, 1187.5, 1191.6666666666667, 1197.8666666666666, 1198.3333333333333, 1200.0, 1200.0, 1211.6666666666667, 1222.9241877256318, 1228.421052631579, 1234.6875, 1249.076923076923, 1254.6875, 1259.142857142857, 1260.0, 1260.0, 1263.6363636363637, 1265.7894736842106, 1266.6666666666667, 1270.2597402597403, 1300.0, 1301.923076923077, 1306.0, 1315.0, 1344.1176470588234, 1350.0, 1357.142857142857, 1360.0, 1370.0, 1388.0, 1390.0, 1400.0, 1400.0, 1418.076923076923, 1427.8832116788321, 1433.3333333333333, 1442.5, 1445.0, 1450.0, 1450.0, 1452.3809523809523, 1461.904761904762, 1464.4444444444443, 1466.6666666666667, 1472.5, 1486.3636363636363, 1500.0, 1506.6666666666667, 1507.9545454545455, 1516.6666666666667, 1519.6969696969697, 1542.1052631578948, 1543.2692307692307, 1550.0, 1550.0, 1550.0, 1550.0, 1550.1336073997945, 1553.8333333333333, 1559.9476439790576, 1575.079365079365, 1582.608695652174, 1589.236111111111, 1590.0, 1592.5, 1595.0, 1595.2380952380952, 1597.7777777777778, 1605.0, 1618.75, 1619.7435897435898, 1620.0, 1624.3478260869565, 1625.0, 1625.7142857142858, 1626.25, 1630.0, 1635.3333333333333, 1650.8333333333333, 1658.4848484848485, 1661.904761904762, 1668.2894736842106, 1670.0, 1680.0581395348838, 1683.3333333333333, 1685.0, 1690.4761904761904, 1700.0, 1723.1914893617022, 1725.0, 1750.2234636871508, 1750.5813953488373, 1762.5, 1764.0, 1766.6666666666667, 1769.5652173913043, 1770.3846153846155, 1770.7142857142858, 1775.618556701031, 1777.857142857143, 1780.0, 1780.0, 1785.0, 1795.6, 1797.9411764705883, 1807.03125, 1820.0, 1820.0, 1822.2222222222222, 1823.5593220338983, 1824.4444444444443, 1825.2777777777778, 1830.0, 1830.5846153846153, 1831.6666666666667, 1833.2692307692307, 1834.0, 1834.4827586206898, 1840.909090909091, 1845.2054794520548, 1847.5, 1856.6666666666667, 1860.3333333333333, 1872.5, 1873.3333333333333, 1873.4285714285713, 1886.1904761904761, 1895.0, 1897.5, 1905.3846153846155, 1905.4022988505747, 1910.0, 1914.2857142857142, 1920.0, 1927.6923076923076, 1933.3333333333333, 1934.6218487394958, 1940.0, 1960.0, 1971.2723658051689, 1981.027027027027, 1982.7586206896551, 1983.6363636363637, 1991.6666666666667, 2008.0, 2012.5, 2013.5294117647059, 2020.0, 2031.2560699255423, 2038.0, 2045.0, 2056.6666666666665, 2070.0, 2070.0, 2072.8571428571427, 2074.4444444444443, 2077.9411764705883, 2080.5, 2084.5945945945946, 2090.0, 2100.0, 2100.0, 2100.8333333333335, 2105.4545454545455, 2110.769230769231, 2116.6666666666665, 2123.913043478261, 2125.0, 2127.1428571428573, 2132.222222222222, 2134.259259259259, 2136.25, 2136.315789473684, 2139.0, 2140.909090909091, 2147.6190476190477, 2150.0, 2159.75, 2168.235294117647, 2168.5714285714284, 2171.625, 2182.5, 2195.714285714286, 2200.0, 2205.925925925926, 2217.5, 2234.1052631578946, 2246.818181818182, 2255.4545454545455, 2256.25, 2257.1428571428573, 2260.0, 2276.3636363636365, 2289.607843137255, 2295.0, 2298.5714285714284, 2298.75, 2300.0, 2300.0, 2300.0, 2303.170731707317, 2312.5, 2316.6666666666665, 2318.4210526315787, 2331.1111111111113, 2335.0, 2340.6666666666665, 2341.044776119403, 2341.818181818182, 2348.3333333333335, 2348.8888888888887, 2350.0, 2350.0, 2352.5280898876404, 2366.309523809524, 2366.6666666666665, 2366.6666666666665, 2400.0, 2400.0, 2400.0, 2400.0, 2400.0, 2400.0, 2405.5172413793102, 2415.6666666666665, 2438.5714285714284, 2441.6666666666665, 2446.6071428571427, 2447.169811320755, 2447.714285714286, 2450.0, 2450.0, 2454.4736842105262, 2460.0, 2463.3333333333335, 2465.0, 2467.9190751445085, 2475.0, 2475.4166666666665, 2482.9268292682927, 2485.9349593495936, 2487.3743016759777, 2487.5, 2490.0, 2491.6666666666665, 2493.3333333333335, 2493.3333333333335, 2499.2753623188405, 2500.0, 2501.3297872340427, 2506.153846153846, 2508.3333333333335, 2509.3548387096776, 2510.0, 2516.9565217391305, 2520.0, 2523.157894736842, 2532.5, 2540.0, 2558.3333333333335, 2564.705882352941, 2566.6666666666665, 2582.3529411764707, 2583.8333333333335, 2596.796875, 2598.1481481481483, 2600.0, 2610.0, 2610.0, 2612.4, 2620.0, 2626.6666666666665, 2626.8888888888887, 2630.0, 2633.3333333333335, 2635.321100917431, 2639.88, 2644.375, 2649.0, 2650.0, 2652.5, 2654.6774193548385, 2661.25, 2667.0491803278687, 2671.4285714285716, 2672.8571428571427, 2673.75, 2677.3333333333335, 2682.7272727272725, 2685.714285714286, 2700.0, 2700.0, 2710.0, 2711.3414634146343, 2714.3333333333335, 2717.0454545454545, 2725.0, 2726.6666666666665, 2730.0, 2739.767441860465, 2747.5, 2747.5, 2750.0, 2750.0, 2750.0, 2763.3333333333335, 2763.3333333333335, 2766.6666666666665, 2766.6666666666665, 2772.4691358024693, 2775.294117647059, 2784.6153846153848, 2790.0, 2791.25, 2792.0, 2794.4444444444443, 2794.7368421052633, 2796.603773584906, 2796.875, 2797.5, 2800.0, 2815.714285714286, 2823.407079646018, 2831.844827586207, 2837.5, 2849.6, 2850.0, 2862.5, 2866.6666666666665, 2880.9523809523807, 2900.0, 2907.5, 2915.0, 2915.8823529411766, 2929.5384615384614, 2942.3529411764707, 2944.0987370838116, 2945.185185185185, 2948.0, 2948.9473684210525, 2950.0, 2957.0588235294117, 2960.0, 2965.7894736842104, 2966.6666666666665, 2967.5, 2969.0, 2973.181818181818, 2973.5714285714284, 2993.3333333333335, 2993.75, 2995.2631578947367, 3000.0, 3005.625, 3019.5180722891564, 3024.6153846153848, 3033.3333333333335, 3034.1176470588234, 3042.222222222222, 3042.8571428571427, 3048.0, 3063.3333333333335, 3075.75, 3093.5714285714284, 3095.128205128205, 3100.0, 3104.8571428571427, 3109.230769230769, 3112.5, 3113.0, 3113.3333333333335, 3130.0, 3136.3636363636365, 3140.0, 3144.2331288343557, 3147.0238095238096, 3149.090909090909, 3155.714285714286, 3160.0, 3166.0, 3173.0555555555557, 3190.0, 3190.0, 3195.0, 3195.0, 3200.0, 3205.5555555555557, 3215.3333333333335, 3218.181818181818, 3222.5, 3222.5, 3232.9166666666665, 3235.3846153846152, 3239.090909090909, 3250.0, 3261.0, 3265.625, 3270.0, 3275.625, 3276.923076923077, 3287.6785714285716, 3290.0, 3303.125, 3306.153846153846, 3313.684210526316, 3315.0, 3316.274509803922, 3317.5, 3322.222222222222, 3322.3333333333335, 3334.0, 3340.909090909091, 3341.25, 3348.0, 3348.315789473684, 3349.285714285714, 3350.0, 3350.0, 3365.0, 3370.3703703703704, 3377.8260869565215, 3378.181818181818, 3380.0, 3385.0, 3388.3333333333335, 3390.5128205128203, 3396.6666666666665, 3398.0, 3400.0, 3400.0, 3400.0, 3407.215189873418, 3407.7456647398844, 3408.3333333333335, 3408.409090909091, 3411.5384615384614, 3416.25, 3416.6666666666665, 3421.043165467626, 3427.953629032258, 3430.6666666666665, 3435.3333333333335, 3441.6666666666665, 3445.0, 3450.9615384615386, 3457.6, 3458.0, 3471.5384615384614, 3474.0714285714284, 3474.285714285714, 3478.0, 3487.5, 3488.125, 3490.0, 3490.0, 3500.0, 3500.0, 3505.0, 3507.8, 3522.2580645161293, 3525.0, 3532.8571428571427, 3533.3333333333335, 3540.0, 3546.190476190476, 3550.9523809523807, 3554.0, 3560.0, 3570.0, 3579.4871794871797, 3580.4347826086955, 3590.0, 3596.25, 3600.0, 3600.0, 3600.0, 3600.0, 3604.237288135593, 3605.5555555555557, 3607.3529411764707, 3610.5, 3611.6666666666665, 3615.8333333333335, 3622.5, 3630.0, 3630.8571428571427, 3633.3333333333335, 3650.0, 3650.0, 3656.6666666666665, 3658.0, 3666.6666666666665, 3667.2, 3672.4675324675327, 3678.3855225701504, 3680.0, 3687.5, 3687.777777777778, 3690.0, 3700.0, 3710.0, 3724.285714285714, 3725.0, 3732.5, 3735.858064516129, 3736.3636363636365, 3747.2727272727275, 3750.0, 3754.7368421052633, 3754.782608695652, 3767.5, 3775.0, 3777.6923076923076, 3783.761467889908, 3785.0, 3786.0, 3790.0, 3792.8571428571427, 3794.0, 3794.285714285714, 3800.0, 3807.1428571428573, 3808.3333333333335, 3810.0, 3814.0, 3815.689655172414, 3824.6666666666665, 3826.25, 3833.157894736842, 3833.3333333333335, 3843.3333333333335, 3845.0, 3848.5714285714284, 3852.5, 3873.2, 3873.529411764706, 3880.0, 3885.0, 3891.1111111111113, 3893.846153846154, 3896.6666666666665, 3900.0, 3910.0, 3916.4285714285716, 3919.4117647058824, 3922.2580645161293, 3924.5454545454545, 3933.3333333333335, 3936.6666666666665, 3945.0, 3949.7872340425533, 3950.0, 3960.5882352941176, 3962.0, 3964.285714285714, 3965.5555555555557, 3965.714285714286, 3970.169491525424, 3975.0, 3976.4285714285716, 3991.8518518518517, 3997.777777777778, 4000.0, 4000.5298013245033, 4008.3333333333335, 4014.5, 4016.6666666666665, 4020.0, 4028.5714285714284, 4030.769230769231, 4033.478260869565, 4037.1428571428573, 4037.2727272727275, 4042.5, 4042.6666666666665, 4042.777777777778, 4043.846153846154, 4050.0, 4050.0, 4054.0, 4060.243902439024, 4062.5, 4078.6776859504134, 4084.754098360656, 4086.0, 4095.8823529411766, 4096.666666666667, 4098.235294117647, 4100.0, 4104.538367844092, 4120.0, 4120.416666666667, 4129.666666666667, 4137.363636363636, 4139.285714285715, 4145.0, 4150.0, 4168.648648648648, 4175.5, 4184.705882352941, 4185.714285714285, 4190.0, 4196.363636363636, 4200.0, 4204.861111111111, 4215.0, 4222.5, 4233.333333333333, 4234.0, 4236.5, 4241.111111111111, 4245.0, 4259.2307692307695, 4270.740740740741, 4272.222222222223, 4274.705882352941, 4275.0, 4275.0, 4281.428571428572, 4282.222222222223, 4283.75, 4285.012285012285, 4285.714285714285, 4290.0, 4292.307692307692, 4292.5, 4296.153846153846, 4300.0, 4300.0, 4306.09756097561, 4311.666666666667, 4314.166666666667, 4314.585152838428, 4321.0, 4333.333333333333, 4343.75, 4345.0, 4351.666666666667, 4359.090909090909, 4362.727272727273, 4363.492063492064, 4363.571428571428, 4370.0, 4383.849206349207, 4387.428571428572, 4389.393939393939, 4389.411764705882, 4390.0, 4402.5, 4413.888888888889, 4416.666666666667, 4417.857142857143, 4429.411764705882, 4441.666666666667, 4442.0, 4443.5, 4463.684210526316, 4473.181818181818, 4473.846153846154, 4474.285714285715, 4475.833333333333, 4476.0, 4479.090909090909, 4485.0, 4490.0, 4501.290322580645, 4528.0, 4535.0, 4535.0, 4540.981266726138, 4550.0, 4550.0, 4554.545454545455, 4556.666666666667, 4560.0, 4565.0, 4565.350877192983, 4572.5, 4587.5, 4593.548387096775, 4603.759336099585, 4605.235294117647, 4617.5, 4618.0, 4636.666666666667, 4638.75, 4642.5, 4642.720588235294, 4647.5, 4650.0, 4658.235294117647, 4659.166666666667, 4661.428571428572, 4664.285714285715, 4670.0, 4674.285714285715, 4678.644859813084, 4690.0, 4690.0, 4692.5, 4695.0, 4700.0, 4701.521739130435, 4710.0, 4714.111111111111, 4720.0, 4722.992700729927, 4726.666666666667, 4730.909090909091, 4731.038961038961, 4732.5, 4735.928571428572, 4737.777777777777, 4744.2307692307695, 4750.0, 4750.0, 4751.764705882353, 4753.333333333333, 4758.888888888889, 4764.545454545455, 4770.0, 4772.0, 4772.173913043478, 4776.0, 4778.148148148148, 4780.0, 4785.714285714285, 4787.272727272727, 4790.0, 4792.222222222223, 4797.142857142857, 4800.0, 4812.5, 4825.0, 4826.666666666667, 4846.0, 4849.384615384615, 4856.3956639566395, 4867.419354838709, 4875.0, 4884.736842105263, 4886.086956521739, 4890.0, 4890.0, 4891.111111111111, 4900.0, 4900.0, 4923.125, 4938.75, 4943.076923076923, 4945.555555555556, 4950.0, 4951.0, 4956.666666666667, 4963.428571428572, 4965.454545454545, 4980.0, 4980.0, 4980.243902439024, 4982.068965517241, 4996.402116402116, 4998.0, 5000.0, 5000.0, 5000.0, 5002.4358974358975, 5007.0, 5008.421052631579, 5012.222222222223, 5022.5, 5046.315789473684, 5057.5, 5075.0, 5083.333333333333, 5084.285714285715, 5102.857142857143, 5104.545454545455, 5106.666666666667, 5128.333333333333, 5130.0, 5134.285714285715, 5137.5, 5140.0, 5145.714285714285, 5150.0, 5150.0, 5155.0, 5157.657142857143, 5158.666666666667, 5164.058252427184, 5169.0, 5174.0, 5190.0, 5193.2, 5197.826086956522, 5205.454545454545, 5206.981132075472, 5217.5, 5219.824561403509, 5220.0, 5225.0, 5242.857142857143, 5250.0, 5250.0, 5251.410256410257, 5253.333333333333, 5256.666666666667, 5270.0, 5275.0, 5285.0, 5285.454545454545, 5300.0, 5311.25, 5313.4375, 5325.0, 5333.333333333333, 5335.0, 5337.5, 5340.0, 5350.0, 5354.545454545455, 5367.368421052632, 5368.636363636364, 5376.117647058823, 5380.5, 5383.333333333333, 5386.666666666667, 5390.0, 5390.0, 5394.520547945205, 5395.0, 5400.0, 5410.0, 5434.0, 5446.0, 5450.0, 5465.833333333333, 5470.0, 5483.004926108374, 5491.25, 5492.608695652174, 5494.444444444444, 5505.0, 5514.0, 5516.923076923077, 5518.333333333333, 5520.0, 5523.0, 5525.0, 5537.619047619048, 5567.307692307692, 5571.25, 5580.0, 5582.285714285715, 5585.0, 5594.0, 5600.0, 5603.125, 5612.5, 5616.666666666667, 5620.0, 5625.0, 5627.045454545455, 5636.7307692307695, 5648.0, 5654.786324786325, 5663.563829787234, 5676.764705882353, 5695.0, 5696.666666666667, 5700.0, 5700.0, 5712.5, 5724.961240310077, 5727.777777777777, 5733.75, 5737.5, 5750.0, 5750.0, 5751.0526315789475, 5790.0, 5790.0, 5790.0, 5816.875, 5833.0, 5837.692307692308, 5850.0, 5852.72, 5858.0, 5858.423913043478, 5861.739130434783, 5862.5, 5866.666666666667, 5885.0, 5900.0, 5900.0, 5902.5, 5909.036918138042, 5918.695652173913, 5926.792452830188, 5932.0, 5941.714285714285, 5944.0, 5956.666666666667, 5956.829268292683, 5973.75, 5976.576576576576, 6000.0, 6014.6875, 6027.272727272727, 6033.636363636364, 6035.833333333333, 6036.739130434783, 6062.0, 6070.0, 6083.333333333333, 6086.666666666667, 6087.727272727273, 6090.0, 6114.285714285715, 6115.0, 6116.190476190476, 6125.833333333333, 6131.578947368421, 6139.090909090909, 6139.523809523809, 6146.086956521739, 6149.444444444444, 6150.0, 6168.266666666666, 6169.285714285715, 6182.0, 6190.0, 6201.241379310345, 6209.473684210527, 6220.0, 6223.333333333333, 6223.571428571428, 6224.285714285715, 6250.0, 6253.181818181818, 6272.093023255814, 6275.0, 6287.692307692308, 6288.5, 6293.148148148148, 6304.285714285715, 6311.171875, 6316.666666666667, 6328.571428571428, 6405.238095238095, 6414.528301886792, 6444.166666666667, 6456.666666666667, 6460.0, 6475.0, 6477.5, 6480.0, 6487.5, 6487.627118644068, 6493.333333333333, 6504.285714285715, 6522.765957446809, 6525.0, 6534.285714285715, 6539.0, 6557.076923076923, 6570.0, 6573.0, 6575.0, 6588.333333333333, 6612.35294117647, 6615.0, 6650.0, 6660.0, 6660.7692307692305, 6680.0, 6685.0, 6690.0, 6710.0, 6716.666666666667, 6730.0, 6740.0, 6743.478260869565, 6745.64705882353, 6750.0, 6754.0, 6761.111111111111, 6762.5, 6815.95744680851, 6818.666666666667, 6830.4, 6833.333333333333, 6840.0, 6850.0, 6870.697674418605, 6873.125, 6875.714285714285, 6897.5, 6898.0, 6901.323529411765, 6904.520547945205, 6922.0, 6925.0, 6925.0, 6928.245614035088, 6947.619047619048, 6950.0, 6957.272727272727, 6960.0, 6963.529411764706, 6966.666666666667, 6971.428571428572, 6983.333333333333, 6995.333333333333, 7002.35294117647, 7010.0, 7023.333333333333, 7045.0, 7054.689378757515, 7060.0, 7092.857142857143, 7107.0, 7135.0, 7152.777777777777, 7177.3267326732675, 7180.0, 7180.0, 7183.333333333333, 7190.0, 7193.762376237623, 7200.0, 7201.538461538462, 7227.5, 7229.090909090909, 7230.0, 7238.75, 7250.0, 7257.1875, 7258.461538461538, 7300.0, 7306.0, 7312.142857142857, 7314.285714285715, 7320.0, 7330.0, 7339.375, 7342.5, 7352.105263157895, 7373.75, 7394.827586206897, 7424.615384615385, 7437.0, 7451.111111111111, 7460.0, 7460.952380952381, 7463.0, 7463.842592592592, 7477.64705882353, 7487.777777777777, 7492.8125, 7495.0, 7512.916666666667, 7528.666666666667, 7531.470588235294, 7533.666666666667, 7542.777777777777, 7560.0, 7561.666666666667, 7590.967741935484, 7597.0, 7600.0, 7614.814814814815, 7633.454545454545, 7641.599229287091, 7650.0, 7660.8, 7705.454545454545, 7741.428571428572, 7795.0, 7845.0, 7850.909090909091, 7864.444444444444, 7872.222222222223, 7890.0, 7898.0, 7930.277777777777, 7944.0, 7985.31914893617, 8023.333333333333, 8026.666666666667, 8026.666666666667, 8030.0, 8035.412844036698, 8037.307692307692, 8042.040816326531, 8052.0, 8055.625, 8058.5, 8080.0, 8123.1578947368425, 8125.0, 8125.0, 8168.333333333333, 8190.0, 8205.0, 8240.0, 8246.666666666666, 8250.0, 8256.666666666666, 8257.5, 8275.714285714286, 8280.0, 8304.675324675325, 8318.333333333334, 8321.111111111111, 8337.777777777777, 8373.333333333334, 8380.044543429844, 8383.333333333334, 8390.0, 8391.111111111111, 8500.0, 8515.555555555555, 8520.0, 8545.833333333334, 8555.714285714286, 8562.5, 8585.714285714286, 8590.625, 8600.0, 8600.0, 8604.485981308411, 8638.636363636364, 8663.5, 8682.5, 8687.852760736196, 8690.0, 8700.0, 8700.0, 8714.285714285714, 8721.228070175439, 8744.886363636364, 8756.0, 8766.666666666666, 8785.714285714286, 8794.302325581395, 8797.5, 8802.692307692309, 8820.65934065934, 8845.625, 8900.0, 8904.70588235294, 8926.052631578947, 8934.314516129032, 8940.0, 8940.714285714286, 8941.818181818182, 8942.0, 8945.0, 8951.42857142857, 8962.441860465116, 8980.0, 8982.142857142857, 8986.931034482759, 8989.5, 8990.0, 9000.0, 9017.543859649122, 9030.977995110024, 9050.0, 9062.916666666666, 9066.77966101695, 9080.0, 9100.0, 9101.111111111111, 9134.0, 9136.0, 9147.5, 9183.291139240506, 9227.28813559322, 9236.0, 9275.29411764706, 9312.857142857143, 9320.247191011236, 9360.0, 9360.344827586207, 9368.095238095239, 9386.666666666666, 9420.37037037037, 9425.0, 9460.0, 9470.222222222223, 9524.666666666666, 9553.333333333334, 9555.0, 9558.0, 9559.20634920635, 9583.333333333334, 9606.0, 9613.333333333334, 9624.09090909091, 9658.57142857143, 9671.666666666666, 9674.444444444445, 9690.0, 9695.0, 9766.666666666666, 9785.0, 9787.5, 9800.0, 9802.666666666666, 9828.461538461539, 9850.0, 9937.142857142857, 9950.0, 9966.666666666666, 9985.882352941177, 9996.666666666666, 10020.377358490567, 10031.714285714286, 10048.0, 10050.0, 10109.285714285714, 10111.0, 10114.444444444445, 10168.947368421053, 10199.636363636364, 10280.0, 10298.701298701299, 10359.583333333334, 10373.0, 10387.333333333334, 10387.5, 10406.349206349207, 10420.0, 10432.142857142857, 10432.5, 10437.142857142857, 10444.347826086956, 10457.5, 10486.0, 10503.421052631578, 10523.333333333334, 10540.0, 10554.545454545454, 10619.047619047618, 10650.0, 10652.727272727272, 10661.111111111111, 10686.666666666666, 10687.5, 10693.75, 10695.0, 10711.42857142857, 10737.142857142857, 10848.0, 10900.0, 10938.57142857143, 11017.142857142857, 11037.931034482759, 11065.0, 11090.0, 11090.0, 11131.666666666666, 11158.57142857143, 11177.142857142857, 11231.25, 11280.0, 11327.5, 11412.941176470587, 11488.75, 11512.222222222223, 11522.5, 11564.444444444445, 11580.0, 11663.333333333334, 11755.0, 11825.0, 11971.785714285714, 12055.263157894737, 12120.0, 12229.285714285714, 12230.0, 12246.0, 12273.333333333334, 12418.333333333334, 12505.714285714286, 12580.833333333334, 12595.0, 12650.0, 12718.97435897436, 12890.0, 12900.0, 13035.454545454546, 13037.32142857143, 13157.0625, 13182.941176470587, 13208.75, 13250.0, 13254.347826086956, 13283.333333333334, 13297.0, 13358.0, 13371.578947368422, 13507.142857142857, 13631.333333333334, 13690.0, 13694.0, 13716.0, 13772.222222222223, 13820.588235294117, 13898.333333333334, 14050.0, 14096.0, 14143.846153846154, 14202.0, 14750.0, 15030.0, 15533.846153846154, 15650.0, 16097.5, 16200.0, 16395.0, 16540.0, 16703.333333333332, 16928.125, 17100.0, 17220.0, 17233.333333333332, 17490.151515151516, 17629.354838709678, 17990.0, 18172.14285714286, 18330.0, 18416.0, 18495.0, 18560.0, 18888.333333333332, 18991.48148148148, 19190.0, 19330.0, 19631.666666666668, 20320.0, 21383.333333333332, 21768.823529411766, 22351.515151515152, 26570.58823529412, 30561.764705882353], \"xaxis\": \"x\", \"y\": [0.0, 0.3333333333333333, 0.3333333333333333, 1.0, 1.0, 0.6666666666666666, 0.5, 0.5, 0.4444444444444444, 1.0, 0.6666666666666666, 0.2, 0.6666666666666666, 1.0, 0.0, 0.8, 1.0, 1.0, 1.8863636363636365, 0.9743589743589743, 1.1147540983606556, 1.0, 1.0526315789473684, 1.0714285714285714, 0.8780487804878049, 1.1111111111111112, 1.0, 1.0, 1.6, 1.4495114006514658, 4.375, 1.368421052631579, 1.0, 1.0, 1.2040816326530612, 1.8888888888888888, 0.8, 1.2142857142857142, 1.0497512437810945, 1.4615384615384615, 0.37209302325581395, 2.2777777777777777, 1.5555555555555556, 1.0, 2.7777777777777777, 1.0, 1.5, 5.333333333333333, 1.3333333333333333, 1.0, 2.0, 1.0909090909090908, 1.04, 1.786096256684492, 1.2968503937007874, 2.464788732394366, 1.25, 1.3846153846153846, 3.1880341880341883, 1.2162162162162162, 6.4, 2.3333333333333335, 1.5517241379310345, 5.625, 2.6666666666666665, 1.0, 1.0909090909090908, 1.4761904761904763, 1.6666666666666667, 5.666666666666667, 3.1, 1.2717149220489978, 2.0, 1.2222222222222223, 2.4, 1.7272727272727273, 1.9, 1.0588235294117647, 2.2857142857142856, 1.2307692307692308, 8.6, 1.26, 3.75, 6.967741935483871, 1.7127659574468086, 2.5652173913043477, 1.0, 1.5, 1.4285714285714286, 8.5, 1.3333333333333333, 1.5066666666666666, 4.333333333333333, 1.0, 1.0, 5.333333333333333, 1.667870036101083, 2.3684210526315788, 1.7760416666666667, 1.476923076923077, 1.8125, 1.5142857142857142, 2.2, 5.285714285714286, 6.090909090909091, 1.763157894736842, 9.666666666666666, 7.441558441558442, 2.0, 1.3846153846153846, 1.8, 4.333333333333333, 2.1176470588235294, 1.5714285714285714, 3.7142857142857144, 3.0, 5.4, 1.28, 5.194444444444445, 5.0, 2.0, 2.1346153846153846, 3.0583941605839415, 1.6666666666666667, 6.125, 5.5, 2.2222222222222223, 3.806451612903226, 2.5714285714285716, 2.142857142857143, 4.888888888888889, 2.3333333333333335, 1.25, 2.5454545454545454, 1.0, 2.5, 2.1363636363636362, 2.076923076923077, 2.0, 2.0, 2.2884615384615383, 2.0, 2.0, 5.0, 12.0, 2.6382322713257964, 1.9833333333333334, 1.8900523560209423, 2.5, 1.9565217391304348, 2.0208333333333335, 6.4, 2.556451612903226, 10.5, 1.2380952380952381, 7.0, 5.333333333333333, 2.625, 2.7435897435897436, 7.25, 5.391304347826087, 2.0, 13.285714285714286, 2.35, 8.8, 2.3333333333333335, 3.7291666666666665, 2.878787878787879, 4.0476190476190474, 3.741228070175439, 9.0, 1.4651162790697674, 2.6666666666666665, 13.25, 2.2857142857142856, 2.0, 3.6595744680851063, 2.0, 2.170391061452514, 2.302325581395349, 3.75, 7.9, 12.666666666666666, 2.3043478260869565, 2.4038461538461537, 4.071428571428571, 3.9536082474226806, 6.5, 2.0714285714285716, 4.622222222222222, 1.5, 10.32, 3.0647058823529414, 2.140625, 2.0, 3.6666666666666665, 7.222222222222222, 2.5254237288135593, 4.222222222222222, 3.2777777777777777, 7.6, 2.0846153846153848, 4.5, 2.7371794871794872, 11.2, 2.5517241379310347, 1.4545454545454546, 2.4200913242009134, 7.0, 3.6666666666666665, 2.6, 12.5, 10.0, 5.2, 2.142857142857143, 12.75, 8.25, 7.3076923076923075, 2.760919540229885, 2.2, 17.857142857142858, 2.7, 11.307692307692308, 2.3333333333333335, 2.2941176470588234, 2.5, 3.0, 2.3339960238568587, 3.1054054054054054, 9.413793103448276, 7.636363636363637, 3.0, 4.6, 11.25, 9.529411764705882, 12.0, 3.1235027516995792, 4.6, 19.0, 6.5, 4.0, 2.6818181818181817, 6.142857142857143, 6.666666666666667, 4.323529411764706, 5.55, 12.486486486486486, 9.0, 20.0, 3.5, 7.25, 5.2727272727272725, 2.4615384615384617, 3.533333333333333, 3.0434782608695654, 2.5, 16.571428571428573, 11.777777777777779, 4.722222222222222, 7.375, 3.263157894736842, 3.257142857142857, 3.7818181818181817, 3.0, 4.5, 4.1, 1.8823529411764706, 11.0, 4.1875, 4.166666666666667, 12.142857142857142, 10.0, 2.5185185185185186, 5.052631578947368, 4.052631578947368, 11.727272727272727, 2.590909090909091, 12.0, 3.6857142857142855, 7.909090909090909, 7.454545454545454, 5.627450980392157, 1.8333333333333333, 9.428571428571429, 16.125, 3.0, 317.0, 4.1875, 4.512195121951219, 4.5, 3.0, 2.6578947368421053, 10.055555555555555, 9.7, 6.844444444444444, 3.611940298507463, 3.036363636363636, 8.291666666666666, 4.507936507936508, 8.0, 11.0, 3.4831460674157304, 3.4404761904761907, 3.0, 2.6666666666666665, 4.0, 14.666666666666666, 3.0, 26.0, 3.0, 7.0, 5.827586206896552, 8.166666666666666, 8.0, 3.0833333333333335, 7.482142857142857, 3.339622641509434, 6.0, 7.333333333333333, 15.0, 7.157894736842105, 4.384615384615385, 11.333333333333334, 11.5, 2.5578034682080926, 2.0, 3.375, 2.1463414634146343, 4.162601626016261, 3.782122905027933, 3.0625, 14.0, 3.6666666666666665, 5.833333333333333, 7.666666666666667, 4.2898550724637685, 6.0, 3.643617021276596, 12.461538461538462, 2.6666666666666665, 4.096774193548387, 9.333333333333334, 7.173913043478261, 9.4, 6.947368421052632, 4.833333333333333, 26.0, 6.5, 3.2941176470588234, 1.2, 4.823529411764706, 7.666666666666667, 3.6953125, 3.6195286195286194, 4.857142857142857, 9.4, 11.4, 5.58, 14.0, 15.333333333333334, 3.6666666666666665, 23.4, 3.433333333333333, 3.963302752293578, 11.72, 2.9375, 2.4, 3.0, 7.5, 6.82258064516129, 6.625, 2.262295081967213, 10.857142857142858, 3.857142857142857, 5.5, 5.4, 4.818181818181818, 3.4285714285714284, 5.0, 3.5, 8.666666666666666, 2.341463414634146, 2.2, 2.409090909090909, 4.25, 11.333333333333334, 16.0, 3.627906976744186, 21.75, 8.5, 4.0, 3.6666666666666665, 4.666666666666667, 10.6, 18.0, 23.333333333333332, 3.3333333333333335, 9.11111111111111, 9.549019607843137, 3.6923076923076925, 20.0, 12.875, 3.2, 15.0, 4.06140350877193, 5.886792452830188, 5.4375, 11.75, 5.8, 6.285714285714286, 5.154867256637168, 3.5448275862068965, 5.75, 4.52, 19.0, 3.1666666666666665, 4.0, 3.9047619047619047, 3.0, 13.375, 12.75, 4.352941176470588, 7.276923076923077, 3.7411764705882353, 4.065442020665901, 3.4444444444444446, 13.3, 4.526315789473684, 2.0, 7.588235294117647, 7.5, 5.157894736842105, 4.0, 6.75, 11.3, 3.5454545454545454, 10.928571428571429, 4.8125, 3.5, 4.374269005847953, 12.0, 5.1875, 4.0120481927710845, 11.923076923076923, 4.5, 25.41176470588235, 4.388888888888889, 4.428571428571429, 4.4, 18.0, 16.4, 5.357142857142857, 8.923076923076923, 4.0, 8.257142857142858, 4.846153846153846, 4.5, 15.4, 7.0, 4.0, 3.1818181818181817, 13.6, 4.435582822085889, 4.309523809523809, 9.181818181818182, 5.785714285714286, 3.6666666666666665, 9.733333333333333, 8.125, 9.0, 12.0, 9.0, 12.5, 13.0, 15.222222222222221, 5.158974358974359, 12.818181818181818, 11.625, 21.5, 6.833333333333333, 5.576923076923077, 6.090909090909091, 4.5, 16.7, 2.625, 24.0, 2.375, 15.0, 5.321428571428571, 19.75, 5.8125, 8.26923076923077, 14.894736842105264, 13.25, 4.359477124183006, 12.5, 2.7777777777777777, 6.8, 4.8, 5.909090909090909, 5.5, 17.8, 7.568421052631579, 7.214285714285714, 7.0, 4.0, 4.5, 8.166666666666666, 7.086956521739131, 16.0, 7.0, 13.625, 14.666666666666666, 7.846153846153846, 8.333333333333334, 20.4, 2.375, 5.0, 15.0, 3.2531645569620253, 9.06936416184971, 19.0, 3.8636363636363638, 6.760683760683761, 12.0, 2.1333333333333333, 3.4160671462829737, 5.297379032258065, 6.233333333333333, 4.4, 13.333333333333334, 15.0, 5.096153846153846, 5.08, 4.6, 7.769230769230769, 7.192857142857143, 13.428571428571429, 4.2, 4.375, 3.0625, 88.5, 3.5, 4.0, 5.0, 4.7, 7.94, 7.090322580645161, 4.5, 10.428571428571429, 3.6666666666666665, 12.5, 4.619047619047619, 2.857142857142857, 15.3, 2.6666666666666665, 8.625, 9.538461538461538, 2.347826086956522, 19.0, 9.5, 5.0, 19.0, 22.5, 7.0, 13.694915254237289, 4.703703703703703, 18.735294117647058, 18.666666666666668, 21.0, 10.520833333333334, 5.4, 8.05, 16.714285714285715, 4.666666666666667, 12.7, 3.967741935483871, 5.111111111111111, 10.8, 4.666666666666667, 6.56, 28.363636363636363, 4.530296868645791, 12.0, 2.875, 9.666666666666666, 15.454545454545455, 13.5, 9.2, 5.142857142857143, 5.0, 4.125, 10.923870967741935, 8.090909090909092, 11.818181818181818, 5.0, 5.7368421052631575, 4.478260869565218, 15.75, 5.214285714285714, 4.338461538461538, 6.018348623853211, 14.5, 15.8, 23.0, 5.238095238095238, 3.2, 10.5, 20.0, 5.142857142857143, 14.0, 11.333333333333334, 19.8, 6.008620689655173, 9.0, 15.875, 6.0, 5.666666666666667, 13.0, 14.5, 18.571428571428573, 9.416666666666666, 6.52, 5.705882352941177, 13.0, 27.0, 18.88888888888889, 10.307692307692308, 16.333333333333332, 47.0, 3.0, 2.0714285714285716, 8.647058823529411, 9.064516129032258, 3.0, 5.333333333333333, 17.22222222222222, 9.2, 3.723404255319149, 11.0, 11.352941176470589, 18.7, 5.428571428571429, 15.333333333333334, 17.428571428571427, 7.3559322033898304, 6.0, 3.9285714285714284, 3.0, 20.77777777777778, 6.666666666666667, 5.814569536423841, 5.5, 7.25, 5.5, 3.857142857142857, 6.428571428571429, 19.153846153846153, 21.73913043478261, 9.333333333333334, 3.6363636363636362, 17.25, 7.966666666666667, 7.5, 10.0, 7.0, 5.0, 14.0, 7.512195121951219, 5.75, 7.404958677685951, 4.557377049180328, 7.4, 8.529411764705882, 7.0, 7.588235294117647, 6.5, 5.292082825822168, 4.285714285714286, 12.291666666666666, 24.833333333333332, 13.212121212121213, 13.928571428571429, 24.75, 5.0, 4.918918918918919, 3.75, 15.352941176470589, 20.0, 8.0, 5.090909090909091, 5.222222222222222, 7.013888888888889, 13.0, 9.5, 22.0, 14.2, 15.0, 9.88888888888889, 22.5, 18.692307692307693, 11.222222222222221, 5.333333333333333, 19.529411764705884, 6.5, 6.5, 39.714285714285715, 6.5, 7.0, 8.216216216216216, 6.0, 14.0, 16.46153846153846, 24.0, 6.384615384615385, 6.0, 6.6, 4.390243902439025, 14.5, 7.083333333333333, 4.585152838427947, 6.8, 7.0, 14.0, 23.0, 21.333333333333332, 4.090909090909091, 8.818181818181818, 6.483516483516484, 10.357142857142858, 8.0, 5.916666666666667, 8.183673469387756, 15.454545454545455, 3.9411764705882355, 16.0, 18.083333333333332, 6.277777777777778, 12.0, 6.642857142857143, 5.897058823529412, 12.833333333333334, 4.7, 14.3, 6.157894736842105, 13.227272727272727, 9.461538461538462, 13.285714285714286, 3.8333333333333335, 13.0, 13.090909090909092, 36.0, 25.0, 6.967741935483871, 14.4, 17.5, 15.5, 5.606898602438299, 5.833333333333333, 7.0, 4.2727272727272725, 8.666666666666666, 9.3, 2.4166666666666665, 8.526315789473685, 15.833333333333334, 23.5, 6.344086021505376, 6.551867219917012, 11.823529411764707, 13.5, 14.6, 10.037037037037036, 8.125, 11.5, 13.470588235294118, 17.0, 6.0, 25.058823529411764, 10.666666666666666, 15.928571428571429, 10.0, 9.5, 18.285714285714285, 7.025700934579439, 29.0, 16.0, 25.25, 21.0, 5.5, 10.608695652173912, 14.0, 16.822222222222223, 33.666666666666664, 7.029197080291971, 17.333333333333332, 16.272727272727273, 5.8441558441558445, 18.5, 6.371428571428571, 9.333333333333334, 3.9615384615384617, 7.0, 6.0, 9.823529411764707, 14.666666666666666, 26.444444444444443, 5.409090909090909, 13.333333333333334, 15.0, 21.608695652173914, 21.0, 2.8703703703703702, 16.0, 4.535714285714286, 3.5454545454545454, 22.5, 7.044444444444444, 2.7857142857142856, 19.5, 19.75, 6.0, 22.0, 8.2, 9.153846153846153, 10.750677506775068, 6.741935483870968, 5.333333333333333, 15.81578947368421, 6.869565217391305, 4.0, 19.5, 17.444444444444443, 19.375, 6.833333333333333, 10.25, 16.25, 14.076923076923077, 6.777777777777778, 8.0, 19.7, 17.333333333333332, 12.442857142857143, 13.454545454545455, 12.5, 11.0, 17.24390243902439, 4.862068965517241, 11.640211640211641, 5.15, 3.0, 11.4, 7.0, 4.384615384615385, 8.4, 15.631578947368421, 7.0, 12.25, 4.473684210526316, 9.0, 7.5, 23.0, 7.742857142857143, 12.571428571428571, 6.636363636363637, 23.0, 11.0, 305.45, 8.571428571428571, 12.25, 17.5, 5.071428571428571, 19.333333333333332, 7.0, 21.75, 6.594285714285714, 14.066666666666666, 8.871844660194174, 16.5, 8.8, 14.5, 18.44, 8.021739130434783, 7.181818181818182, 12.628032345013477, 17.25, 6.741626794258373, 6.0, 17.0, 3.25, 6.0, 27.0, 21.346153846153847, 20.666666666666668, 6.641025641025641, 17.333333333333332, 12.928571428571429, 18.0, 6.545454545454546, 21.0, 11.0, 3.21875, 7.833333333333333, 6.333333333333333, 13.25, 7.75, 8.4, 7.0, 16.90909090909091, 5.592105263157895, 6.7727272727272725, 12.952941176470588, 3.5, 7.333333333333333, 6.282051282051282, 6.4, 14.0, 5.410958904109589, 31.0, 8.0, 16.714285714285715, 9.6, 4.8, 24.0, 12.416666666666666, 9.125, 8.108374384236454, 17.125, 29.565217391304348, 7.388888888888889, 15.333333333333334, 25.2, 3.0, 13.916666666666666, 20.666666666666668, 13.7, 8.5, 7.523809523809524, 13.73076923076923, 11.3125, 12.4, 5.314285714285714, 10.625, 18.45, 8.0, 5.65625, 9.375, 18.333333333333332, 7.928571428571429, 29.5, 6.045454545454546, 6.8076923076923075, 12.6, 8.547008547008547, 7.776595744680851, 8.705882352941176, 14.0, 10.333333333333334, 9.0, 18.5, 8.25, 10.015503875968992, 12.0, 14.125, 23.0, 8.0, 21.5, 15.157894736842104, 28.0, 17.0, 21.0, 11.3125, 20.333333333333332, 66.46153846153847, 28.0, 7.32, 5.96, 7.701086956521739, 7.217391304347826, 18.75, 27.666666666666668, 11.2, 14.0, 11.0, 14.833333333333334, 6.735152487961477, 11.478260869565217, 6.226415094339623, 21.4, 11.428571428571429, 9.9, 8.333333333333334, 10.46951219512195, 9.125, 8.513513513513514, 8.0, 12.46875, 8.760330578512397, 7.515151515151516, 17.5, 8.5, 3.8666666666666667, 7.285714285714286, 25.166666666666668, 26.0, 11.227272727272727, 11.705882352941176, 23.142857142857142, 18.25, 24.0, 14.333333333333334, 6.368421052631579, 12.818181818181818, 14.238095238095237, 10.782608695652174, 10.833333333333334, 9.0, 16.013333333333332, 9.214285714285714, 23.0, 20.0, 14.017241379310345, 8.736842105263158, 5.5, 26.666666666666668, 16.214285714285715, 17.142857142857142, 15.2, 9.113636363636363, 7.558139534883721, 9.0, 12.35897435897436, 5.95, 9.462962962962964, 12.8, 12.6875, 19.666666666666668, 6.142857142857143, 11.0, 10.339622641509434, 11.083333333333334, 8.416666666666666, 30.5, 10.5, 6.375, 24.0, 8.75, 5.5423728813559325, 3.7777777777777777, 29.857142857142858, 12.23404255319149, 25.333333333333332, 27.571428571428573, 17.4, 25.307692307692307, 5.5, 19.6, 16.75, 7.5, 8.862745098039216, 5.375, 6.0, 4.5, 15.0, 19.0, 31.5, 23.0, 5.6, 8.333333333333334, 18.0, 9.0, 11.73913043478261, 7.047058823529412, 11.0, 11.1, 14.416666666666666, 21.25, 12.893617021276595, 14.666666666666666, 6.32, 9.666666666666666, 16.0, 9.0, 10.511627906976743, 15.25, 10.285714285714286, 6.75, 19.4, 7.492647058823529, 11.849315068493151, 19.2, 8.5, 5.444444444444445, 9.456140350877194, 3.142857142857143, 17.0, 15.181818181818182, 29.666666666666668, 8.588235294117647, 9.0, 12.142857142857142, 9.833333333333334, 3.2666666666666666, 9.352941176470589, 13.357142857142858, 22.0, 25.0, 15.464929859719438, 14.0, 14.142857142857142, 6.9, 21.0, 8.666666666666666, 10.077793493635077, 15.8, 20.0, 36.333333333333336, 27.0, 18.673267326732674, 10.0, 9.0, 13.25, 7.781818181818182, 31.666666666666668, 15.875, 10.0, 10.125, 11.384615384615385, 23.0, 5.0, 16.0, 7.190476190476191, 30.25, 9.416666666666666, 12.875, 10.75, 9.368421052631579, 2.25, 8.96551724137931, 8.0, 15.5, 30.77777777777778, 11.125, 10.333333333333334, 12.45, 7.87037037037037, 12.294117647058824, 8.222222222222221, 8.28125, 22.1, 5.566666666666666, 10.8, 10.382352941176471, 8.3, 16.27777777777778, 25.166666666666668, 340.5, 5.096774193548387, 10.85, 12.0, 5.407407407407407, 22.90909090909091, 8.593448940269749, 11.0, 5.24, 10.181818181818182, 41.0, 18.25, 5.166666666666667, 21.727272727272727, 8.333333333333334, 11.814814814814815, 33.0, 15.6, 13.416666666666666, 28.4, 6.553191489361702, 32.0, 18.333333333333332, 14.307692307692308, 25.0, 8.44954128440367, 18.023076923076925, 5.346938775510204, 3.84, 8.0, 12.9, 21.0, 9.68421052631579, 15.5, 32.5, 16.833333333333332, 26.0, 11.8125, 11.75, 21.333333333333332, 10.0, 7.866666666666666, 11.25, 29.571428571428573, 19.0, 8.188311688311689, 18.666666666666668, 35.77777777777778, 11.88888888888889, 12.88888888888889, 7.989977728285078, 9.444444444444445, 17.5, 7.333333333333333, 19.0, 9.333333333333334, 13.655172413793103, 5.75, 11.428571428571429, 21.25, 9.142857142857142, 20.5, 11.0, 12.0, 25.16822429906542, 10.5, 8.05, 6.55, 9.239263803680982, 39.0, 17.0, 14.0, 16.928571428571427, 9.982456140350877, 8.522727272727273, 23.0, 14.333333333333334, 8.912087912087912, 28.674418604651162, 78.75, 38.73076923076923, 13.593406593406593, 4.6875, 20.0, 7.764705882352941, 5.157894736842105, 9.108870967741936, 6.0, 8.214285714285714, 9.545454545454545, 19.1, 25.0, 2.9047619047619047, 8.63953488372093, 32.0, 9.428571428571429, 11.068965517241379, 5.1, 11.903225806451612, 16.0, 9.859649122807017, 7.238997555012225, 17.75, 6.427083333333333, 12.186440677966102, 32.5, 20.0, 6.111111111111111, 9.7, 15.4, 14.5625, 12.329113924050633, 2.9152542372881354, 30.266666666666666, 16.176470588235293, 17.857142857142858, 10.748314606741573, 9.571428571428571, 13.862068965517242, 16.0, 21.0, 13.88888888888889, 15.5, 16.263157894736842, 14.133333333333333, 14.466666666666667, 9.333333333333334, 6.75, 8.2, 15.365079365079366, 9.166666666666666, 31.0, 19.0, 9.454545454545455, 9.428571428571429, 10.083333333333334, 15.222222222222221, 180.0, 28.666666666666668, 22.333333333333332, 9.666666666666666, 8.75, 9.0, 14.966666666666667, 8.615384615384615, 10.0, 34.0, 4.857142857142857, 23.666666666666668, 36.6764705882353, 13.666666666666666, 5.547169811320755, 14.771428571428572, 13.8, 18.0, 19.428571428571427, 8.4, 18.22222222222222, 14.68421052631579, 8.745454545454546, 15.333333333333334, 9.577922077922079, 12.666666666666666, 7.3, 13.8, 9.5, 13.777777777777779, 12.285714285714286, 13.5, 8.0, 14.428571428571429, 13.391304347826088, 23.75, 9.6, 5.573684210526316, 74.0, 5.166666666666667, 15.272727272727273, 8.333333333333334, 5.857142857142857, 20.818181818181817, 21.22222222222222, 12.333333333333334, 19.75, 9.0, 25.25, 13.238095238095237, 12.714285714285714, 21.4, 8.0, 169.42857142857142, 18.714285714285715, 5.172413793103448, 4.625, 32.0, 41.0, 18.1, 12.857142857142858, 16.857142857142858, 7.875, 20.0, 12.125, 5.588235294117647, 6.875, 11.222222222222221, 12.625, 14.88888888888889, 26.0, 26.0, 13.5, 16.0, 10.607142857142858, 13.736842105263158, 7.6, 5.785714285714286, 14.0, 13.6, 9.25, 14.0, 7.0, 18.916666666666668, 30.5, 13.5, 9.384615384615385, 31.0, 26.0, 23.545454545454547, 11.196428571428571, 17.8125, 16.705882352941178, 9.625, 8.0, 12.91304347826087, 10.666666666666666, 6.7, 69.6, 12.789473684210526, 24.428571428571427, 35.5, 21.0, 7.4, 36.0, 5.888888888888889, 9.176470588235293, 16.833333333333332, 18.0, 44.0, 14.23076923076923, 17.2, 10.0, 8.5, 23.615384615384617, 46.5, 11.25, 4.375, 47.0, 33.0, 22.555555555555557, 17.1875, 27.0, 13.25, 8.333333333333334, 7.2272727272727275, 10.64516129032258, 8.5, 12.571428571428571, 8.5, 15.4, 10.0, 11.0, 14.333333333333334, 8.037037037037036, 10.774193548387096, 13.5, 10.0, 9.4, 12.166666666666666, 7.0, 14.454545454545455, 8.705882352941176, 7.705882352941177], \"yaxis\": \"y\"}],\n",
              "                        {\"legend\": {\"tracegroupgap\": 0}, \"template\": {\"data\": {\"bar\": [{\"error_x\": {\"color\": \"#2a3f5f\"}, \"error_y\": {\"color\": \"#2a3f5f\"}, \"marker\": {\"line\": {\"color\": \"#E5ECF6\", \"width\": 0.5}}, \"type\": \"bar\"}], \"barpolar\": [{\"marker\": {\"line\": {\"color\": \"#E5ECF6\", \"width\": 0.5}}, \"type\": \"barpolar\"}], \"carpet\": [{\"aaxis\": {\"endlinecolor\": \"#2a3f5f\", \"gridcolor\": \"white\", \"linecolor\": \"white\", \"minorgridcolor\": \"white\", \"startlinecolor\": \"#2a3f5f\"}, \"baxis\": {\"endlinecolor\": \"#2a3f5f\", \"gridcolor\": \"white\", \"linecolor\": \"white\", \"minorgridcolor\": \"white\", \"startlinecolor\": \"#2a3f5f\"}, \"type\": \"carpet\"}], \"choropleth\": [{\"colorbar\": {\"outlinewidth\": 0, \"ticks\": \"\"}, \"type\": \"choropleth\"}], \"contour\": [{\"colorbar\": {\"outlinewidth\": 0, \"ticks\": \"\"}, \"colorscale\": [[0.0, \"#0d0887\"], [0.1111111111111111, \"#46039f\"], [0.2222222222222222, \"#7201a8\"], [0.3333333333333333, \"#9c179e\"], [0.4444444444444444, \"#bd3786\"], [0.5555555555555556, \"#d8576b\"], [0.6666666666666666, \"#ed7953\"], [0.7777777777777778, \"#fb9f3a\"], [0.8888888888888888, \"#fdca26\"], [1.0, \"#f0f921\"]], \"type\": \"contour\"}], \"contourcarpet\": [{\"colorbar\": {\"outlinewidth\": 0, \"ticks\": \"\"}, \"type\": \"contourcarpet\"}], \"heatmap\": [{\"colorbar\": {\"outlinewidth\": 0, \"ticks\": \"\"}, \"colorscale\": [[0.0, \"#0d0887\"], [0.1111111111111111, \"#46039f\"], [0.2222222222222222, \"#7201a8\"], [0.3333333333333333, \"#9c179e\"], [0.4444444444444444, \"#bd3786\"], [0.5555555555555556, \"#d8576b\"], [0.6666666666666666, \"#ed7953\"], [0.7777777777777778, \"#fb9f3a\"], [0.8888888888888888, \"#fdca26\"], [1.0, \"#f0f921\"]], \"type\": \"heatmap\"}], \"heatmapgl\": [{\"colorbar\": {\"outlinewidth\": 0, \"ticks\": \"\"}, \"colorscale\": [[0.0, \"#0d0887\"], [0.1111111111111111, \"#46039f\"], [0.2222222222222222, \"#7201a8\"], [0.3333333333333333, \"#9c179e\"], [0.4444444444444444, \"#bd3786\"], [0.5555555555555556, \"#d8576b\"], [0.6666666666666666, \"#ed7953\"], [0.7777777777777778, \"#fb9f3a\"], [0.8888888888888888, \"#fdca26\"], [1.0, \"#f0f921\"]], \"type\": \"heatmapgl\"}], \"histogram\": [{\"marker\": {\"colorbar\": {\"outlinewidth\": 0, \"ticks\": \"\"}}, \"type\": \"histogram\"}], \"histogram2d\": [{\"colorbar\": {\"outlinewidth\": 0, \"ticks\": \"\"}, \"colorscale\": [[0.0, \"#0d0887\"], [0.1111111111111111, \"#46039f\"], [0.2222222222222222, \"#7201a8\"], [0.3333333333333333, \"#9c179e\"], [0.4444444444444444, \"#bd3786\"], [0.5555555555555556, \"#d8576b\"], [0.6666666666666666, \"#ed7953\"], [0.7777777777777778, \"#fb9f3a\"], [0.8888888888888888, \"#fdca26\"], [1.0, \"#f0f921\"]], \"type\": \"histogram2d\"}], \"histogram2dcontour\": [{\"colorbar\": {\"outlinewidth\": 0, \"ticks\": \"\"}, \"colorscale\": [[0.0, \"#0d0887\"], [0.1111111111111111, \"#46039f\"], [0.2222222222222222, \"#7201a8\"], [0.3333333333333333, \"#9c179e\"], [0.4444444444444444, \"#bd3786\"], [0.5555555555555556, \"#d8576b\"], [0.6666666666666666, \"#ed7953\"], [0.7777777777777778, \"#fb9f3a\"], [0.8888888888888888, \"#fdca26\"], [1.0, \"#f0f921\"]], \"type\": \"histogram2dcontour\"}], \"mesh3d\": [{\"colorbar\": {\"outlinewidth\": 0, \"ticks\": \"\"}, \"type\": \"mesh3d\"}], \"parcoords\": [{\"line\": {\"colorbar\": {\"outlinewidth\": 0, \"ticks\": \"\"}}, \"type\": \"parcoords\"}], \"pie\": [{\"automargin\": true, \"type\": \"pie\"}], \"scatter\": [{\"marker\": {\"colorbar\": {\"outlinewidth\": 0, \"ticks\": \"\"}}, \"type\": \"scatter\"}], \"scatter3d\": [{\"line\": {\"colorbar\": {\"outlinewidth\": 0, \"ticks\": \"\"}}, \"marker\": {\"colorbar\": {\"outlinewidth\": 0, \"ticks\": \"\"}}, \"type\": \"scatter3d\"}], \"scattercarpet\": [{\"marker\": {\"colorbar\": {\"outlinewidth\": 0, \"ticks\": \"\"}}, \"type\": \"scattercarpet\"}], \"scattergeo\": [{\"marker\": {\"colorbar\": {\"outlinewidth\": 0, \"ticks\": \"\"}}, \"type\": \"scattergeo\"}], \"scattergl\": [{\"marker\": {\"colorbar\": {\"outlinewidth\": 0, \"ticks\": \"\"}}, \"type\": \"scattergl\"}], \"scattermapbox\": [{\"marker\": {\"colorbar\": {\"outlinewidth\": 0, \"ticks\": \"\"}}, \"type\": \"scattermapbox\"}], \"scatterpolar\": [{\"marker\": {\"colorbar\": {\"outlinewidth\": 0, \"ticks\": \"\"}}, \"type\": \"scatterpolar\"}], \"scatterpolargl\": [{\"marker\": {\"colorbar\": {\"outlinewidth\": 0, \"ticks\": \"\"}}, \"type\": \"scatterpolargl\"}], \"scatterternary\": [{\"marker\": {\"colorbar\": {\"outlinewidth\": 0, \"ticks\": \"\"}}, \"type\": \"scatterternary\"}], \"surface\": [{\"colorbar\": {\"outlinewidth\": 0, \"ticks\": \"\"}, \"colorscale\": [[0.0, \"#0d0887\"], [0.1111111111111111, \"#46039f\"], [0.2222222222222222, \"#7201a8\"], [0.3333333333333333, \"#9c179e\"], [0.4444444444444444, \"#bd3786\"], [0.5555555555555556, \"#d8576b\"], [0.6666666666666666, \"#ed7953\"], [0.7777777777777778, \"#fb9f3a\"], [0.8888888888888888, \"#fdca26\"], [1.0, \"#f0f921\"]], \"type\": \"surface\"}], \"table\": [{\"cells\": {\"fill\": {\"color\": \"#EBF0F8\"}, \"line\": {\"color\": \"white\"}}, \"header\": {\"fill\": {\"color\": \"#C8D4E3\"}, \"line\": {\"color\": \"white\"}}, \"type\": \"table\"}]}, \"layout\": {\"annotationdefaults\": {\"arrowcolor\": \"#2a3f5f\", \"arrowhead\": 0, \"arrowwidth\": 1}, \"coloraxis\": {\"colorbar\": {\"outlinewidth\": 0, \"ticks\": \"\"}}, \"colorscale\": {\"diverging\": [[0, \"#8e0152\"], [0.1, \"#c51b7d\"], [0.2, \"#de77ae\"], [0.3, \"#f1b6da\"], [0.4, \"#fde0ef\"], [0.5, \"#f7f7f7\"], [0.6, \"#e6f5d0\"], [0.7, \"#b8e186\"], [0.8, \"#7fbc41\"], [0.9, \"#4d9221\"], [1, \"#276419\"]], \"sequential\": [[0.0, \"#0d0887\"], [0.1111111111111111, \"#46039f\"], [0.2222222222222222, \"#7201a8\"], [0.3333333333333333, \"#9c179e\"], [0.4444444444444444, \"#bd3786\"], [0.5555555555555556, \"#d8576b\"], [0.6666666666666666, \"#ed7953\"], [0.7777777777777778, \"#fb9f3a\"], [0.8888888888888888, \"#fdca26\"], [1.0, \"#f0f921\"]], \"sequentialminus\": [[0.0, \"#0d0887\"], [0.1111111111111111, \"#46039f\"], [0.2222222222222222, \"#7201a8\"], [0.3333333333333333, \"#9c179e\"], [0.4444444444444444, \"#bd3786\"], [0.5555555555555556, \"#d8576b\"], [0.6666666666666666, \"#ed7953\"], [0.7777777777777778, \"#fb9f3a\"], [0.8888888888888888, \"#fdca26\"], [1.0, \"#f0f921\"]]}, \"colorway\": [\"#636efa\", \"#EF553B\", \"#00cc96\", \"#ab63fa\", \"#FFA15A\", \"#19d3f3\", \"#FF6692\", \"#B6E880\", \"#FF97FF\", \"#FECB52\"], \"font\": {\"color\": \"#2a3f5f\"}, \"geo\": {\"bgcolor\": \"white\", \"lakecolor\": \"white\", \"landcolor\": \"#E5ECF6\", \"showlakes\": true, \"showland\": true, \"subunitcolor\": \"white\"}, \"hoverlabel\": {\"align\": \"left\"}, \"hovermode\": \"closest\", \"mapbox\": {\"style\": \"light\"}, \"paper_bgcolor\": \"white\", \"plot_bgcolor\": \"#E5ECF6\", \"polar\": {\"angularaxis\": {\"gridcolor\": \"white\", \"linecolor\": \"white\", \"ticks\": \"\"}, \"bgcolor\": \"#E5ECF6\", \"radialaxis\": {\"gridcolor\": \"white\", \"linecolor\": \"white\", \"ticks\": \"\"}}, \"scene\": {\"xaxis\": {\"backgroundcolor\": \"#E5ECF6\", \"gridcolor\": \"white\", \"gridwidth\": 2, \"linecolor\": \"white\", \"showbackground\": true, \"ticks\": \"\", \"zerolinecolor\": \"white\"}, \"yaxis\": {\"backgroundcolor\": \"#E5ECF6\", \"gridcolor\": \"white\", \"gridwidth\": 2, \"linecolor\": \"white\", \"showbackground\": true, \"ticks\": \"\", \"zerolinecolor\": \"white\"}, \"zaxis\": {\"backgroundcolor\": \"#E5ECF6\", \"gridcolor\": \"white\", \"gridwidth\": 2, \"linecolor\": \"white\", \"showbackground\": true, \"ticks\": \"\", \"zerolinecolor\": \"white\"}}, \"shapedefaults\": {\"line\": {\"color\": \"#2a3f5f\"}}, \"ternary\": {\"aaxis\": {\"gridcolor\": \"white\", \"linecolor\": \"white\", \"ticks\": \"\"}, \"baxis\": {\"gridcolor\": \"white\", \"linecolor\": \"white\", \"ticks\": \"\"}, \"bgcolor\": \"#E5ECF6\", \"caxis\": {\"gridcolor\": \"white\", \"linecolor\": \"white\", \"ticks\": \"\"}}, \"title\": {\"x\": 0.05}, \"xaxis\": {\"automargin\": true, \"gridcolor\": \"white\", \"linecolor\": \"white\", \"ticks\": \"\", \"title\": {\"standoff\": 15}, \"zerolinecolor\": \"white\", \"zerolinewidth\": 2}, \"yaxis\": {\"automargin\": true, \"gridcolor\": \"white\", \"linecolor\": \"white\", \"ticks\": \"\", \"title\": {\"standoff\": 15}, \"zerolinecolor\": \"white\", \"zerolinewidth\": 2}}}, \"title\": {\"text\": \"Comparaison prix et temps de trajet\"}, \"xaxis\": {\"anchor\": \"y\", \"domain\": [0.0, 1.0], \"title\": {\"text\": \"price_in_cents\"}}, \"yaxis\": {\"anchor\": \"x\", \"domain\": [0.0, 1.0], \"title\": {\"text\": \"time\"}}},\n",
              "                        {\"responsive\": true}\n",
              "                    ).then(function(){\n",
              "                            \n",
              "var gd = document.getElementById('307bfff4-a109-4977-b67d-eae000855d59');\n",
              "var x = new MutationObserver(function (mutations, observer) {{\n",
              "        var display = window.getComputedStyle(gd).display;\n",
              "        if (!display || display === 'none') {{\n",
              "            console.log([gd, 'removed!']);\n",
              "            Plotly.purge(gd);\n",
              "            observer.disconnect();\n",
              "        }}\n",
              "}});\n",
              "\n",
              "// Listen for the removal of the full notebook cells\n",
              "var notebookContainer = gd.closest('#notebook-container');\n",
              "if (notebookContainer) {{\n",
              "    x.observe(notebookContainer, {childList: true});\n",
              "}}\n",
              "\n",
              "// Listen for the clearing of the current output cell\n",
              "var outputEl = gd.closest('.output');\n",
              "if (outputEl) {{\n",
              "    x.observe(outputEl, {childList: true});\n",
              "}}\n",
              "\n",
              "                        })\n",
              "                };\n",
              "                \n",
              "            </script>\n",
              "        </div>\n",
              "</body>\n",
              "</html>"
            ]
          },
          "metadata": {}
        }
      ]
    },
    {
      "cell_type": "markdown",
      "metadata": {
        "id": "YFs043_3dcer"
      },
      "source": [
        "Réponse : NON on voit clairement qu'on n'est loin d'une courbe linéaire MAIS il faut prendre en compte qu'ici on a l'ensemble des moyens des transports il faudrait pour cela appronfondir l'analyse"
      ]
    },
    {
      "cell_type": "markdown",
      "metadata": {
        "id": "82cvq5z-kz3u"
      },
      "source": [
        "## Streamlit (hors test)"
      ]
    },
    {
      "cell_type": "code",
      "metadata": {
        "colab": {
          "base_uri": "https://localhost:8080/",
          "height": 265
        },
        "id": "j-VfKPfplHHk",
        "outputId": "8877799d-437f-49e6-87de-e0012f1498d8"
      },
      "source": [
        "df_pt_1.loc['agen']"
      ],
      "execution_count": null,
      "outputs": [
        {
          "output_type": "execute_result",
          "data": {
            "text/html": [
              "<div>\n",
              "<style scoped>\n",
              "    .dataframe tbody tr th:only-of-type {\n",
              "        vertical-align: middle;\n",
              "    }\n",
              "\n",
              "    .dataframe tbody tr th {\n",
              "        vertical-align: top;\n",
              "    }\n",
              "\n",
              "    .dataframe thead tr th {\n",
              "        text-align: left;\n",
              "    }\n",
              "\n",
              "    .dataframe thead tr:last-of-type th {\n",
              "        text-align: right;\n",
              "    }\n",
              "</style>\n",
              "<table border=\"1\" class=\"dataframe\">\n",
              "  <thead>\n",
              "    <tr>\n",
              "      <th></th>\n",
              "      <th colspan=\"2\" halign=\"left\">mean</th>\n",
              "      <th colspan=\"2\" halign=\"left\">amax</th>\n",
              "      <th colspan=\"2\" halign=\"left\">amin</th>\n",
              "      <th colspan=\"2\" halign=\"left\">len</th>\n",
              "    </tr>\n",
              "    <tr>\n",
              "      <th></th>\n",
              "      <th>price_in_cents</th>\n",
              "      <th>time</th>\n",
              "      <th>price_in_cents</th>\n",
              "      <th>time</th>\n",
              "      <th>price_in_cents</th>\n",
              "      <th>time</th>\n",
              "      <th>price_in_cents</th>\n",
              "      <th>time</th>\n",
              "    </tr>\n",
              "    <tr>\n",
              "      <th>d_city</th>\n",
              "      <th></th>\n",
              "      <th></th>\n",
              "      <th></th>\n",
              "      <th></th>\n",
              "      <th></th>\n",
              "      <th></th>\n",
              "      <th></th>\n",
              "      <th></th>\n",
              "    </tr>\n",
              "  </thead>\n",
              "  <tbody>\n",
              "    <tr>\n",
              "      <th>dijon</th>\n",
              "      <td>11755.000000</td>\n",
              "      <td>13.500000</td>\n",
              "      <td>13650</td>\n",
              "      <td>15</td>\n",
              "      <td>9860</td>\n",
              "      <td>12</td>\n",
              "      <td>2</td>\n",
              "      <td>2</td>\n",
              "    </tr>\n",
              "    <tr>\n",
              "      <th>marseille</th>\n",
              "      <td>4042.666667</td>\n",
              "      <td>7.966667</td>\n",
              "      <td>8920</td>\n",
              "      <td>12</td>\n",
              "      <td>2000</td>\n",
              "      <td>5</td>\n",
              "      <td>30</td>\n",
              "      <td>30</td>\n",
              "    </tr>\n",
              "    <tr>\n",
              "      <th>marseille-aeroport</th>\n",
              "      <td>3833.333333</td>\n",
              "      <td>5.666667</td>\n",
              "      <td>4050</td>\n",
              "      <td>8</td>\n",
              "      <td>3700</td>\n",
              "      <td>5</td>\n",
              "      <td>6</td>\n",
              "      <td>6</td>\n",
              "    </tr>\n",
              "    <tr>\n",
              "      <th>paris</th>\n",
              "      <td>2797.500000</td>\n",
              "      <td>11.750000</td>\n",
              "      <td>3190</td>\n",
              "      <td>14</td>\n",
              "      <td>2600</td>\n",
              "      <td>9</td>\n",
              "      <td>4</td>\n",
              "      <td>4</td>\n",
              "    </tr>\n",
              "    <tr>\n",
              "      <th>toulouse</th>\n",
              "      <td>864.626866</td>\n",
              "      <td>1.049751</td>\n",
              "      <td>2420</td>\n",
              "      <td>4</td>\n",
              "      <td>700</td>\n",
              "      <td>1</td>\n",
              "      <td>201</td>\n",
              "      <td>201</td>\n",
              "    </tr>\n",
              "  </tbody>\n",
              "</table>\n",
              "</div>"
            ],
            "text/plain": [
              "                             mean             ...            len     \n",
              "                   price_in_cents       time  ... price_in_cents time\n",
              "d_city                                        ...                    \n",
              "dijon                11755.000000  13.500000  ...              2    2\n",
              "marseille             4042.666667   7.966667  ...             30   30\n",
              "marseille-aeroport    3833.333333   5.666667  ...              6    6\n",
              "paris                 2797.500000  11.750000  ...              4    4\n",
              "toulouse               864.626866   1.049751  ...            201  201\n",
              "\n",
              "[5 rows x 8 columns]"
            ]
          },
          "metadata": {},
          "execution_count": 17
        }
      ]
    },
    {
      "cell_type": "code",
      "metadata": {
        "colab": {
          "base_uri": "https://localhost:8080/"
        },
        "id": "mmO9iFzLzsu2",
        "outputId": "f3af12b4-4dc3-4f6a-b5d5-785c042ec855"
      },
      "source": [
        "df_pt_1.loc['agen'].index\n"
      ],
      "execution_count": null,
      "outputs": [
        {
          "output_type": "execute_result",
          "data": {
            "text/plain": [
              "Index(['dijon', 'marseille', 'marseille-aeroport', 'paris', 'toulouse'], dtype='object', name='d_city')"
            ]
          },
          "metadata": {},
          "execution_count": 18
        }
      ]
    },
    {
      "cell_type": "code",
      "metadata": {
        "colab": {
          "base_uri": "https://localhost:8080/"
        },
        "id": "Q23lwMlN0VCd",
        "outputId": "3ef7962a-4f9b-44a9-bf82-912b0aec7831"
      },
      "source": [
        "df_f = df_pt_1.loc['agen'].loc['marseille']\n",
        "df_f"
      ],
      "execution_count": null,
      "outputs": [
        {
          "output_type": "execute_result",
          "data": {
            "text/plain": [
              "mean  price_in_cents    4042.666667\n",
              "      time                 7.966667\n",
              "amax  price_in_cents    8920.000000\n",
              "      time                12.000000\n",
              "amin  price_in_cents    2000.000000\n",
              "      time                 5.000000\n",
              "len   price_in_cents      30.000000\n",
              "      time                30.000000\n",
              "Name: marseille, dtype: float64"
            ]
          },
          "metadata": {},
          "execution_count": 19
        }
      ]
    },
    {
      "cell_type": "code",
      "metadata": {
        "id": "CqDbDQhAzUeP",
        "colab": {
          "base_uri": "https://localhost:8080/",
          "height": 35
        },
        "outputId": "621e5144-4c7c-4e81-c0f5-003a5c32b6c4"
      },
      "source": [
        "# Renommer le n\n",
        "str(df_f.loc['len'].loc['time'])"
      ],
      "execution_count": null,
      "outputs": [
        {
          "output_type": "execute_result",
          "data": {
            "application/vnd.google.colaboratory.intrinsic+json": {
              "type": "string"
            },
            "text/plain": [
              "'30.0'"
            ]
          },
          "metadata": {},
          "execution_count": 30
        }
      ]
    },
    {
      "cell_type": "code",
      "metadata": {
        "colab": {
          "base_uri": "https://localhost:8080/"
        },
        "id": "wGebOPE6oiY9",
        "outputId": "6b791c50-e76f-4ae4-9aa6-b98fe39ac8c0"
      },
      "source": [
        "# récupération de la liste des villes d'origines\n",
        "li_o_city = np.unique(df_1['o_city'])\n",
        "li_o_city"
      ],
      "execution_count": null,
      "outputs": [
        {
          "output_type": "execute_result",
          "data": {
            "text/plain": [
              "array(['aeroport-paris-vatry-', 'agde', 'agen', 'aix-en-provence',\n",
              "       'albias', 'alencon', 'ales', 'alpe-dhuez', 'amberieu-en-bugey',\n",
              "       'amiens', 'amsterdam', 'angers', 'angouleme', 'annecy',\n",
              "       'annemasse', 'antibes', 'antwerpen', 'argeles-sur-mer', 'arles',\n",
              "       'arras', 'aubagne', 'auch', 'auray', 'aurillac', 'auxerre',\n",
              "       'avignon', 'avranches', 'bar-le-duc', 'barcelona', 'bayonne',\n",
              "       'beauvais-aeroport-paris', 'belfort', 'berck-sur-mer', 'bergamo',\n",
              "       'berlin', 'bern', 'bernay', 'besancon', 'bethune', 'beziers',\n",
              "       'biarritz', 'bielefeld', 'biganos', 'birmingham', 'blois-chambord',\n",
              "       'bonneval', 'bordeaux', 'boulogne-sur-mer', 'bourges',\n",
              "       'bourgoin-jallieu', 'bremen', 'bressuire', 'brest', 'brignoles',\n",
              "       'brive-la-gaillarde', 'brno', 'bruxelles', 'bruz', 'bucharest',\n",
              "       'caen', 'cahors', 'calais', 'cannes', 'canterbury', 'carcassonne',\n",
              "       'carpentras', 'castelnaudary', 'castres', 'cercottes',\n",
              "       'chalon-sur-saone', 'chalons-en-champagne', 'chambery',\n",
              "       'champigny-sur-marne', 'chanas', 'chantenay', 'charleroi',\n",
              "       'charleville-mezieres', 'chartres', 'chasseneuil-sur-bonnieure',\n",
              "       'chateau-thierry', 'chateauroux', 'chatellerault', 'chaumont',\n",
              "       'cherbourg', 'cherbourg-en-cotentin', 'chessy', 'cholet',\n",
              "       'clamecy', 'clermont-de-loise', 'clermont-ferrand', 'cluj-napoca',\n",
              "       'colmar', 'compiegne', 'copenhagen', 'cros-de-cagnes', 'darmstadt',\n",
              "       'dax', 'deauville', 'dijon', 'dinan', 'dole-choisey', 'douai',\n",
              "       'duesseldorf', 'epinal', 'etain', 'evreux', 'firminy',\n",
              "       'folkestone', 'forbach', 'frankfurt', 'frejus', 'futuroscope',\n",
              "       'gand', 'gardanne', 'geneve', 'gerona', 'girona',\n",
              "       'gourdan-polignan', 'grenoble', 'grigny-le-sablon', 'guingamp',\n",
              "       'gutersloh', 'hagondange', 'hamburg', 'hazebrouck',\n",
              "       'henin-beaumont', 'honfleur', 'hyeres', 'issoire', 'karlsruhe',\n",
              "       'kehl', 'krakow', 'la-brillanne---oraison', 'la-roche-sur-yon',\n",
              "       'la-rochelle', 'langon', 'lannemezan', 'lannion', 'laon',\n",
              "       'lausanne', 'laval', 'lavaveix-les-mines-sncf',\n",
              "       'le-creusot---montceau-tgv-', 'le-havre', 'le-mans',\n",
              "       'le-puy-en-velay', 'le-thor', 'le-touquet-paris-plage', 'lens',\n",
              "       'les-fontinettes', 'les-sables-dolonne', 'lezignan-corbieres',\n",
              "       'liege', 'lille', 'lillers', 'limoges', 'lisieux', 'ljubljana',\n",
              "       'london', 'lons-le-saunier', 'lorient', 'loriol', 'louhans',\n",
              "       'lourdes', 'louvigny', 'lunel', 'luxembourg', 'lyon', 'macon',\n",
              "       'madrid', 'malaga', 'manchester', 'marignier', 'marmande',\n",
              "       'marseille', 'marseille-aeroport', 'massy', 'metz', 'metzeral',\n",
              "       'milano', 'modena', 'monaco', 'mons', 'mont-de-marsan',\n",
              "       'montargis', 'montauban', 'montbeliard', 'montelimar', 'montendre',\n",
              "       'montlucon', 'montpellier', 'montrichard', 'morlaix', 'moulins',\n",
              "       'mulhouse', 'munchen', 'munster', 'muret', 'namur', 'nancy',\n",
              "       'nantes', 'narbonne', 'neuchatel', 'nevers', 'nice', 'nimes',\n",
              "       'niort', 'orleans', 'orthez', 'ouistreham', 'pamiers', 'paris',\n",
              "       'paris-aeroport-orly', 'pau', 'pauillac', 'perigueux', 'perpignan',\n",
              "       'pierrelaye', 'pisa', 'poitiers', 'pontchaillou', 'porto',\n",
              "       'portsmouth', 'praha', 'puteaux', 'quimper', 'ravensburg', 'redon',\n",
              "       'reims', 'rennes', 'reze', 'roanne', 'rochefort', 'rodez',\n",
              "       'roissy-en-france', 'rolleville', 'roma', 'rotterdam', 'rouen',\n",
              "       'royan', 'roye', 'sain-bel', 'saint-amand-montrond',\n",
              "       'saint-brieuc', 'saint-claude', 'saint-die-des-vosges',\n",
              "       'saint-dizier', 'saint-etienne', 'saint-etienne-du-rouvray',\n",
              "       'saint-gilles-croix-de-vie', 'saint-herblain', 'saint-jean-de-luz',\n",
              "       'saint-maixent-lecole', 'saint-malo', 'saint-nazaire',\n",
              "       'saint-omer', 'saint-priest', 'saint-quentin', 'saint-raphael',\n",
              "       'saintes', 'salon-de-provence', 'san-sebastian', 'saumur',\n",
              "       'sausset-les-pins', 'savona', 'sedan', 'sens', 'sete', 'sheffield',\n",
              "       'soissons', 'strasbourg', 'stuttgart', 'surgeres', 'tarbes',\n",
              "       'thionville', 'tonneins', 'tonnerre', 'torino', 'toulon',\n",
              "       'toulouse', 'tourcoing', 'tournai', 'tours', 'tremblay-en-france',\n",
              "       'troyes', 'tulle', 'ussel', 'utrecht', 'valence', 'valenciennes',\n",
              "       'vannes', 'vendome', 'venezia', 'ventimiglia', 'verdun',\n",
              "       'versailles', 'verviers', 'vesoul', 'vicenza', 'vichy', 'vidauban',\n",
              "       'vierzon', 'ville-de-bruxelles---stad-brussel',\n",
              "       'villefranche-sur-cher', 'vitre', 'zurich'], dtype=object)"
            ]
          },
          "metadata": {},
          "execution_count": 21
        }
      ]
    },
    {
      "cell_type": "markdown",
      "metadata": {
        "id": "oqteI-YrUfnh"
      },
      "source": [
        "# `2) Différence de prix moyen et durée selon le train, le bus et le covoit selon la distance du trajet (0-200km, 201-800km, 800-2000km, 2000+km)`"
      ]
    },
    {
      "cell_type": "code",
      "metadata": {
        "id": "LqNiknEiUlDs"
      },
      "source": [
        "# Objectif d'un DF regroupant le prix, le moyen de transport, et la distance"
      ],
      "execution_count": null,
      "outputs": []
    },
    {
      "cell_type": "code",
      "metadata": {
        "id": "qMSEuClck-nN"
      },
      "source": [
        ""
      ],
      "execution_count": null,
      "outputs": []
    },
    {
      "cell_type": "markdown",
      "metadata": {
        "id": "WTvQvev2U39K"
      },
      "source": [
        "D'abord calcul des distances entre les villes. Je vais utiliser la formule Haversine."
      ]
    },
    {
      "cell_type": "code",
      "metadata": {
        "id": "WpK2XThRU1af"
      },
      "source": [
        "from math import radians, cos, sin, asin, sqrt\n",
        "def haversine(lon1, lat1, lon2, lat2):\n",
        "    \"\"\"\n",
        "    Calculate the great circle distance between two points \n",
        "    on the earth (specified in decimal degrees)\n",
        "    \"\"\"\n",
        "    # convert decimal degrees to radians \n",
        "    lon1, lat1, lon2, lat2 = map(radians, [lon1, lat1, lon2, lat2])\n",
        "    # haversine formula \n",
        "    dlon = lon2 - lon1 \n",
        "    dlat = lat2 - lat1 \n",
        "    a = sin(dlat/2)**2 + cos(lat1) * cos(lat2) * sin(dlon/2)**2\n",
        "    c = 2 * asin(sqrt(a)) \n",
        "    # Radius of earth in kilometers is 6371\n",
        "    km = 6371* c\n",
        "    return km"
      ],
      "execution_count": null,
      "outputs": []
    },
    {
      "cell_type": "code",
      "metadata": {
        "id": "Ju6eEwDWVIAw"
      },
      "source": [
        "df_2 = data_ticket[['departure_ts', 'arrival_ts', 'price_in_cents', 'o_city', 'd_city']]"
      ],
      "execution_count": null,
      "outputs": []
    },
    {
      "cell_type": "code",
      "metadata": {
        "id": "WfuAwisIksxw"
      },
      "source": [
        ""
      ],
      "execution_count": null,
      "outputs": []
    },
    {
      "cell_type": "code",
      "metadata": {
        "id": "-8vmQL0Zk3OB"
      },
      "source": [
        ""
      ],
      "execution_count": null,
      "outputs": []
    }
  ]
}